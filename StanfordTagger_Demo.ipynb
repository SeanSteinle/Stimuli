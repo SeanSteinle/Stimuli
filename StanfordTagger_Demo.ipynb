{
 "cells": [
  {
   "cell_type": "markdown",
   "metadata": {},
   "source": [
    "## Stanford Tagger Demo\n",
    "\n",
    "**How To Run A Server**<br>\n",
    "1. download and extract the CoreNLP somewhere.\n",
    "    - StanfordCoreNLP's download (3.9.2): https://stanfordnlp.github.io/CoreNLP/\n",
    "2. on the command line, cd into that directory\n",
    "    - *stanford-corenlp-full-2018-10-05* should be the folder\n",
    "3. run this command to host the server:\n",
    "    - java -mx4g -cp \"*\" edu.stanford.nlp.pipeline.StanfordCoreNLPServer -annotators \"tokenize,ssplit,pos,lemma,parse,sentiment\" -port 9000 -timeout 30000 \n",
    "<a id='1_c'>"
   ]
  },
  {
   "cell_type": "code",
   "execution_count": 1,
   "metadata": {},
   "outputs": [],
   "source": [
    "from pycorenlp import StanfordCoreNLP\n",
    "nlp = StanfordCoreNLP('http://localhost:9000')"
   ]
  },
  {
   "cell_type": "markdown",
   "metadata": {},
   "source": [
    "**POS Tagging**"
   ]
  },
  {
   "cell_type": "code",
   "execution_count": 2,
   "metadata": {},
   "outputs": [
    {
     "data": {
      "text/plain": [
       "{'sentences': [{'index': 0,\n",
       "   'tokens': [{'index': 1,\n",
       "     'word': 'The',\n",
       "     'originalText': 'The',\n",
       "     'characterOffsetBegin': 0,\n",
       "     'characterOffsetEnd': 3,\n",
       "     'pos': 'DT',\n",
       "     'before': '',\n",
       "     'after': ' '},\n",
       "    {'index': 2,\n",
       "     'word': 'King',\n",
       "     'originalText': 'King',\n",
       "     'characterOffsetBegin': 4,\n",
       "     'characterOffsetEnd': 8,\n",
       "     'pos': 'NNP',\n",
       "     'before': ' ',\n",
       "     'after': ' '},\n",
       "    {'index': 3,\n",
       "     'word': 'of',\n",
       "     'originalText': 'of',\n",
       "     'characterOffsetBegin': 9,\n",
       "     'characterOffsetEnd': 11,\n",
       "     'pos': 'IN',\n",
       "     'before': ' ',\n",
       "     'after': ' '},\n",
       "    {'index': 4,\n",
       "     'word': 'France',\n",
       "     'originalText': 'France',\n",
       "     'characterOffsetBegin': 12,\n",
       "     'characterOffsetEnd': 18,\n",
       "     'pos': 'NNP',\n",
       "     'before': ' ',\n",
       "     'after': ' '},\n",
       "    {'index': 5,\n",
       "     'word': 'is',\n",
       "     'originalText': 'is',\n",
       "     'characterOffsetBegin': 19,\n",
       "     'characterOffsetEnd': 21,\n",
       "     'pos': 'VBZ',\n",
       "     'before': ' ',\n",
       "     'after': ' '},\n",
       "    {'index': 6,\n",
       "     'word': 'bald',\n",
       "     'originalText': 'bald',\n",
       "     'characterOffsetBegin': 22,\n",
       "     'characterOffsetEnd': 26,\n",
       "     'pos': 'JJ',\n",
       "     'before': ' ',\n",
       "     'after': ''},\n",
       "    {'index': 7,\n",
       "     'word': '.',\n",
       "     'originalText': '.',\n",
       "     'characterOffsetBegin': 26,\n",
       "     'characterOffsetEnd': 27,\n",
       "     'pos': '.',\n",
       "     'before': '',\n",
       "     'after': ''}]}]}"
      ]
     },
     "execution_count": 2,
     "metadata": {},
     "output_type": "execute_result"
    }
   ],
   "source": [
    "doc = \"The King of France is bald.\"\n",
    "annot_doc = nlp.annotate(doc, properties={'annotators':'pos', 'outputFormat':'json'})\n",
    "annot_doc"
   ]
  },
  {
   "cell_type": "code",
   "execution_count": 3,
   "metadata": {},
   "outputs": [
    {
     "name": "stdout",
     "output_type": "stream",
     "text": [
      "The -> DT\n",
      "King -> NNP\n",
      "of -> IN\n",
      "France -> NNP\n",
      "is -> VBZ\n",
      "bald -> JJ\n",
      ". -> .\n"
     ]
    }
   ],
   "source": [
    "for sent in annot_doc[\"sentences\"]:\n",
    "    for word in sent[\"tokens\"]:\n",
    "        print(f\"{word['word']} -> {word['pos']}\")"
   ]
  },
  {
   "cell_type": "markdown",
   "metadata": {},
   "source": [
    "**How To Do More**<br>\n",
    "If you want to use any of the other features of StanfordCoreNLP, just toss them into the 'annotators' property along with your text."
   ]
  }
 ],
 "metadata": {
  "kernelspec": {
   "display_name": "Python 3",
   "language": "python",
   "name": "python3"
  },
  "language_info": {
   "codemirror_mode": {
    "name": "ipython",
    "version": 3
   },
   "file_extension": ".py",
   "mimetype": "text/x-python",
   "name": "python",
   "nbconvert_exporter": "python",
   "pygments_lexer": "ipython3",
   "version": "3.8.3"
  }
 },
 "nbformat": 4,
 "nbformat_minor": 4
}
