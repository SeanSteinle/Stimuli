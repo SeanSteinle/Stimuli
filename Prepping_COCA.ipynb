{
 "cells": [
  {
   "cell_type": "markdown",
   "metadata": {},
   "source": [
    "# Prepping COCA\n",
    "In this notebook, I'll prepare relevant COCA sections to train the Roark Parser.\n",
    "## Table of Contents\n",
    "1. [Loading COCA](#1)\n",
    "2. [Test Run](#2)\n",
    "3. [Full Run](#3)\n",
    "<a id='1'>"
   ]
  },
  {
   "cell_type": "markdown",
   "metadata": {},
   "source": [
    "## Loading COCA"
   ]
  },
  {
   "cell_type": "code",
   "execution_count": 2,
   "metadata": {
    "scrolled": true
   },
   "outputs": [
    {
     "name": "stdout",
     "output_type": "stream",
     "text": [
      "opening file w_news_1999.txt\n",
      "opening file w_news_1994.txt\n",
      "opening file w_news_2005.txt\n",
      "opening file w_news_1993.txt\n",
      "opening file w_news_2012.txt\n",
      "opening file w_news_2004.txt\n",
      "opening file w_news_1995.txt\n",
      "opening file w_news_2009.txt\n",
      "opening file w_news_1997.txt\n",
      "opening file w_news_2007.txt\n",
      "opening file w_news_2006.txt\n",
      "opening file w_news_1991.txt\n",
      "opening file w_news_1996.txt\n",
      "opening file w_news_2000.txt\n",
      "opening file w_news_2003.txt\n",
      "opening file w_news_1990.txt\n",
      "opening file w_news_2011.txt\n",
      "opening file w_news_2001.txt\n",
      "opening file w_news_2002.txt\n",
      "opening file w_news_1998.txt\n",
      "opening file w_news_2008.txt\n",
      "opening file w_news_1992.txt\n",
      "opening file w_news_2010.txt\n"
     ]
    },
    {
     "data": {
      "text/plain": [
       "23"
      ]
     },
     "execution_count": 2,
     "metadata": {},
     "output_type": "execute_result"
    }
   ],
   "source": [
    "import os\n",
    "root = 'D:/COCA/stim/text_newspaper_lsp/'\n",
    "text = []\n",
    "for fn in os.listdir(root):\n",
    "    print(\"opening file\", fn)\n",
    "    f = open(root + fn)\n",
    "    lines = f.readlines()\n",
    "    text.append(lines)\n",
    "    f.close()\n",
    "len(text)"
   ]
  },
  {
   "cell_type": "markdown",
   "metadata": {},
   "source": [
    "<a id='2'>"
   ]
  },
  {
   "cell_type": "markdown",
   "metadata": {},
   "source": [
    "## Test Run"
   ]
  },
  {
   "cell_type": "code",
   "execution_count": 3,
   "metadata": {},
   "outputs": [],
   "source": [
    "import nltk\n",
    "mini = text[:5]"
   ]
  },
  {
   "cell_type": "code",
   "execution_count": 26,
   "metadata": {
    "scrolled": true
   },
   "outputs": [
    {
     "data": {
      "text/plain": [
       "\"##3000589 <p> Some teams improve by adding players . Others make themselves better by getting rid of players . Addition by subtraction , Branch Rickey called it . Then there are the Yankees , who hope to prove that a team that won more games than any other in baseball history can at least repeat as champions , if not match or exceed that victory total , without making any changes . <p> When the Yankees ' pitchers and catchers have their first spring training workout in Tampa , Fla. , on Thursday and when the rest of the World Series winners join them Feb. 23 , they will not have to introduce themselves to each other . They are the same guys who dressed and played together last season . <p> True , Tim Raines will not be there , but he is the lone exception . Every other member of the post-season team will be back in all the old familiar places . Bernie Williams , who seemed certain to leave , stayed when the numbers after the dollar sign got big enough . David Cone could @ @ @ @ @ @ @ @ @ @ Girardi , who was virtually gone as an expendable backup catcher , is back . <p> General Manager Brian Cashman could have made some moves just to keep the Yankees alert and prevent them from suffering a major attack of complacency , but he opted instead to follow the policy that says if it ai n't broke , do n't fix it . <p> There was plenty of repair work going on elsewhere this winter , as some teams tried to improve themselves and others tried to mend the holes that were created when players found new addresses . <p> When spring training begins this week -- seven other teams besides the Yankees will start on Thursday , the first day workouts are permitted -- teams will get their first look at the changes they made or were forced to make , or at how gaping are the holes that were left by defections of free agents . <p> The Baltimore Orioles , the team that most desperately wants to knock the Yankees from their lofty American League East perch , will show up with half a new infield , first @ @ @ @ @ @ @ @ @ @ place of Rafael Palmeiro and Roberto Alomar ) ; a new catcher , Charles Johnson , and , a new threat to the less than 5-month-old home run record . <p> That threat would be Albert Belle , who brings to the home run haven of Camden Yards a bat that blistered American League pitchers for 31 home runs in the Chicago White Sox 's 76 games after the All-Star break , a total that nearly matched the 33 Mark McGwire hit in St. Louis 's 76 games after the break . <p> The Mets , the team that most desperately wants to knock the Yankees from their lofty New York City perch , open camp Saturday with half a new infield , third baseman Robin Ventura and second baseman Edgardo Alfonzo , and two-thirds of a new outfield , Bobby Bonilla and Rickey Henderson . <p> They retained Mike Piazza by breaking their bank to pay him a subsistence wage , then traded their former catcher , Todd Hundley , to Los Angeles , where the Dodgers shattered their even more well-stocked bank to lure Kevin Brown and his World @ @ @ @ @ @ @ @ @ @ whatever it will take to reach the playoffs . <p> The Yankees , Mets and Dodgers were among the teams that appeared to have the best off seasons . They will have to demonstrate that on the field , of course . <p> The Atlanta Braves , the longest-running division champions ( seven consecutive titles ) , are another team in that category . They bolstered their offense and defense by adding second baseman Bret Boone and right fielder Brian Jordan while sacrificing only a member of the strongest element of their team , pitcher Denny Neagle . <p> The Arizona Diamondbacks , starting their second season , are not in the class of the Yankees and the Braves , but they engaged in a frenzy of winter activity that got everyone 's attention . They bought a substantial part of their pitching rotation , signing Randy Johnson , Todd Stottlemyre and Armando Reynoso , and got two-thirds of a new outfield , Steve Finley and Luis Gonzalez . Severe Winter for 4 Clubs <p> For some teams , the winter has been a mean season . They are the winners @ @ @ @ @ @ @ @ @ @ , Chicago White Sox , Boston Red Sox and Kansas City Royals . <p> The Royals really do not belong in the other teams ' class because they already were a bad team . But the loss of Dean Palmer ( 34 home runs , 119 runs batted in ) , Jose Offerman ( .315 ) and Tim Belcher ( 14-14 , 234 innings ) can only make them worse . <p> The Padres executed one of the neatest tricks of the off season . A few weeks after their World Series appearance against the Yankees , they induced San Diego voters to approve funding for a new ball park . Then in subsequent weeks they lost Brown , Finley and third baseman Ken Caminiti , then traded Greg Vaughn , who hit 50 home runs for them last season , and pitcher Joey Hamilton . <p> Like their National League champion predecessors , the Florida Marlins , the Padres are a shell of their former self and could return to last place , where they finished the year before they won the pennant . <p> The White Sox -- who @ @ @ @ @ @ @ @ @ @ two months left in the 1997 season , pronounced them incapable of contending for the division championship when they were only three games from first -- suffered the loss of two of their three best players . Belle bolted for Baltimore , and Ventura veered to New York . That leaves Frank Thomas , who endured the worst year of his career last season . <p> The Red Sox played out the last act of the yearlong tragedy they created with their No. 1 hero , Mo Vaughn . In that time , they never made Vaughn an offer he could accept . But they did make Bernie Williams an offer Vaughn would not have refused , only to prompt the Yankees to raise their offer to Williams by nearly 50 percent . So on the same day Vaughn signed with Anaheim , Williams re-signed with the Yankees . A few days later Belle opted for the Orioles , and the Red Sox lineup was barren . No big power hitter , no big run producer , no threat . The Manager Watch <p> Two new managers -- that is , @ @ @ @ @ @ @ @ @ @ attention this spring . <p> Davey Johnson , a winner wherever he has managed but a loser in his ability to keep a job , has been given the responsibility of shepherding the nouveau riche Dodgers to the promised land of high-spending teams . Jim Leyland has been given $2 million a year in Colorado to work the magic that made the Rockies ' fellow expansion team , the Marlins , World Series champions in their fifth year of existence . <p> The other new managers are John Boles , who has replaced Leyland , who had replaced him , and Larry Parrish , who begins his first spring training with the Detroit Tigers , whom he managed on an interim basis the final month of last season . <p> Several managers begin spring training with a real or perceived threat to their jobs . One is Bobby Valentine , who has expensive new weapons in his arsenal and an obstacle to overcome : the Mets ' inability to gain the one victory in their last five games last season that would have at least put them in a playoff for @ @ @ @ @ @ @ @ @ @ disaster waiting to happen : Ray Miller managed the highest-paid 1998 team to a losing record and had better not do it again . Art Howe barely survived in Oakland last season , and Tim Johnson has to regain credibility in Toronto after he admitted concocting a tale about military service in Vietnam . Alumni Membership Grows <p> Some players will be missing when camps open . They are the players who can begin active membership in the Major League Baseball Players Alumni Association . <p> Paul Molitor has retired after 21 years and 3,319 hits , eighth most in major league history . Dennis Eckersley has retired after 24 years and a major league-record 1,071 games pitched . Dennis Martinez has retired after 22 seasons and 245 victories , most ever by a Latin pitcher . <p> They are joined in their retirement by , among others , Joe Carter , Jimmy Key , Terry Pendleton , Juan Samuel and Bob Tewksbury . Lenny Dykstra , who because of injuries has not played since 1996 and played in more than 85 games only once in his last six active seasons @ @ @ @ @ @ @ @ @ @ for Wohlers <p> The six weeks of spring training will be more critical for some players than for others . Mark Wohlers , for example , should learn whether or not he has a future in baseball . <p> Wohlers is the erstwhile , engimatic closer of the Atlanta Braves who is trying to salvage his career . It had been a steadily growing career until he encountered a loss of control and skills last season . Thirty-three walks in 201/3 innings told the stunning tale of a wicked fastball gone awry . The Braves will scrutinize the appearances of Wohlers in exhibition games this spring . <p> Alex Fernandez of Florida ( rotator cuff ) and Kevin Appier of Kansas City ( shoulder ) are two front-line starting pitchers who are coming back from disabling injuries . If they show they are healthy , they could be traded to teams that like to pay high salaries . The Chicago Cubs also will be watching the elbow of Kerry Wood , who burst onto the major league scene last season with an explosion of strikeouts . <p> The comeback of Todd @ @ @ @ @ @ @ @ @ @ minds of the Dodgers . The Yankees will watch Darryl Strawberry and his attempt to overcome colon cancer . <p> Some other matters to watch : Will the Toronto Blue Jays trade Roger Clemens , the Philadelphia Phillies Curt Schilling , the Milwaukee Brewers Fernando Vina ? Will Omar Vizquel accept the contract he signed and not create a problem for the Cleveland Indians ? Will Edgardo Alfonzo make a satisfactory transition from third base to second and advance the Mets ' wild-card cause ? <p> http : //www.nytimes.com \\n\""
      ]
     },
     "execution_count": 26,
     "metadata": {},
     "output_type": "execute_result"
    }
   ],
   "source": [
    "mini[0][1]"
   ]
  },
  {
   "cell_type": "code",
   "execution_count": 45,
   "metadata": {},
   "outputs": [],
   "source": [
    "out = []\n",
    "for line_chunks in mini:\n",
    "    for line_chunk in line_chunks:\n",
    "        sents = nltk.sent_tokenize(line_chunk)\n",
    "        sentsList = []\n",
    "        for sent in sents:\n",
    "            if '@' in sent:\n",
    "                continue\n",
    "            if '<p>' in sent:\n",
    "                sent = sent.split('<p>')[1]\n",
    "            sentsList.append(sent)\n",
    "        out.append(sentsList)"
   ]
  },
  {
   "cell_type": "code",
   "execution_count": 46,
   "metadata": {
    "scrolled": true
   },
   "outputs": [],
   "source": [
    "len(out)\n",
    "foo_mini = out[1]"
   ]
  },
  {
   "cell_type": "code",
   "execution_count": 47,
   "metadata": {},
   "outputs": [],
   "source": [
    "import pandas as pd\n",
    "from stanfordcorenlp import StanfordCoreNLP\n",
    "from nltk import StanfordPOSTagger\n",
    "from nltk.parse import stanford\n",
    "from nltk.parse import CoreNLPParser"
   ]
  },
  {
   "cell_type": "code",
   "execution_count": 48,
   "metadata": {},
   "outputs": [],
   "source": [
    "parser = CoreNLPParser(url='http://localhost:9000')"
   ]
  },
  {
   "cell_type": "code",
   "execution_count": 49,
   "metadata": {
    "scrolled": true
   },
   "outputs": [
    {
     "data": {
      "text/plain": [
       "60"
      ]
     },
     "execution_count": 49,
     "metadata": {},
     "output_type": "execute_result"
    }
   ],
   "source": [
    "coca_trees = []\n",
    "for sent in foo_mini:\n",
    "    trees = parser.raw_parse(sent)\n",
    "    for tree in trees:\n",
    "        coca_trees.append(tree)\n",
    "len(coca_trees)"
   ]
  },
  {
   "cell_type": "code",
   "execution_count": 56,
   "metadata": {},
   "outputs": [
    {
     "name": "stdout",
     "output_type": "stream",
     "text": [
      "                       ROOT                           \n",
      "                        |                              \n",
      "                        S                             \n",
      "       _________________|___________________________   \n",
      "      |                      VP                     | \n",
      "      |            __________|____                  |  \n",
      "      |           |               PP                | \n",
      "      |           |      _________|_____            |  \n",
      "      |           |     |               S           | \n",
      "      |           |     |               |           |  \n",
      "      |           |     |               VP          | \n",
      "      |           |     |          _____|_____      |  \n",
      "      NP          |     |         |           NP    | \n",
      "  ____|____       |     |         |           |     |  \n",
      " DT       NNS    VBP    IN       VBG         NNS    . \n",
      " |         |      |     |         |           |     |  \n",
      "Some     teams improve  by      adding     players  . \n",
      "\n"
     ]
    }
   ],
   "source": [
    "coca_trees[0].pretty_print()"
   ]
  },
  {
   "cell_type": "markdown",
   "metadata": {},
   "source": [
    "<a id='3'>"
   ]
  },
  {
   "cell_type": "markdown",
   "metadata": {},
   "source": [
    "## Full Run"
   ]
  },
  {
   "cell_type": "code",
   "execution_count": 84,
   "metadata": {},
   "outputs": [],
   "source": [
    "def tokenizeAndParseSents(coca_sect):\n",
    "    sent_chunks = []\n",
    "    for line_chunks in coca_sect:\n",
    "        for line_chunk in line_chunks:\n",
    "            stoks = nltk.sent_tokenize(line_chunk)\n",
    "            slist = []\n",
    "            for sent in stoks:\n",
    "                if '@' in sent:\n",
    "                    continue\n",
    "                if '<p>' in sent:\n",
    "                    sent = sent.split('<p>')[1]\n",
    "                slist.append(sent)\n",
    "            sent_chunks.append(slist)\n",
    "    sent_chunks.remove(sent_chunks[0]) #it's a '/n'\n",
    "    #sent_tokenization complete\n",
    "    parses = []\n",
    "    for sents in sent_chunks:\n",
    "        for sent in sents:\n",
    "            trees = parser.raw_parse(sent)\n",
    "            for tree in trees:\n",
    "                parses.append(tree)\n",
    "    return parses"
   ]
  },
  {
   "cell_type": "code",
   "execution_count": 87,
   "metadata": {},
   "outputs": [
    {
     "ename": "StopIteration",
     "evalue": "",
     "output_type": "error",
     "traceback": [
      "\u001b[1;31m---------------------------------------------------------------------------\u001b[0m",
      "\u001b[1;31mStopIteration\u001b[0m                             Traceback (most recent call last)",
      "\u001b[1;32m<timed exec>\u001b[0m in \u001b[0;36m<module>\u001b[1;34m\u001b[0m\n",
      "\u001b[1;32m<ipython-input-84-01fdd6872e5b>\u001b[0m in \u001b[0;36mtokenizeAndParseSents\u001b[1;34m(coca_sect)\u001b[0m\n\u001b[0;32m     17\u001b[0m     \u001b[1;32mfor\u001b[0m \u001b[0msents\u001b[0m \u001b[1;32min\u001b[0m \u001b[0msent_chunks\u001b[0m\u001b[1;33m:\u001b[0m\u001b[1;33m\u001b[0m\u001b[1;33m\u001b[0m\u001b[0m\n\u001b[0;32m     18\u001b[0m         \u001b[1;32mfor\u001b[0m \u001b[0msent\u001b[0m \u001b[1;32min\u001b[0m \u001b[0msents\u001b[0m\u001b[1;33m:\u001b[0m\u001b[1;33m\u001b[0m\u001b[1;33m\u001b[0m\u001b[0m\n\u001b[1;32m---> 19\u001b[1;33m             \u001b[0mtrees\u001b[0m \u001b[1;33m=\u001b[0m \u001b[0mparser\u001b[0m\u001b[1;33m.\u001b[0m\u001b[0mraw_parse\u001b[0m\u001b[1;33m(\u001b[0m\u001b[0msent\u001b[0m\u001b[1;33m)\u001b[0m\u001b[1;33m\u001b[0m\u001b[1;33m\u001b[0m\u001b[0m\n\u001b[0m\u001b[0;32m     20\u001b[0m             \u001b[1;32mfor\u001b[0m \u001b[0mtree\u001b[0m \u001b[1;32min\u001b[0m \u001b[0mtrees\u001b[0m\u001b[1;33m:\u001b[0m\u001b[1;33m\u001b[0m\u001b[1;33m\u001b[0m\u001b[0m\n\u001b[0;32m     21\u001b[0m                 \u001b[0mparses\u001b[0m\u001b[1;33m.\u001b[0m\u001b[0mappend\u001b[0m\u001b[1;33m(\u001b[0m\u001b[0mtree\u001b[0m\u001b[1;33m)\u001b[0m\u001b[1;33m\u001b[0m\u001b[1;33m\u001b[0m\u001b[0m\n",
      "\u001b[1;32mc:\\users\\brett\\desktop\\newdesktop\\academics\\stimuli\\stim_dev\\lib\\site-packages\\nltk\\parse\\corenlp.py\u001b[0m in \u001b[0;36mraw_parse\u001b[1;34m(self, sentence, properties, *args, **kwargs)\u001b[0m\n\u001b[0;32m    225\u001b[0m         \u001b[0mdefault_properties\u001b[0m\u001b[1;33m.\u001b[0m\u001b[0mupdate\u001b[0m\u001b[1;33m(\u001b[0m\u001b[0mproperties\u001b[0m \u001b[1;32mor\u001b[0m \u001b[1;33m{\u001b[0m\u001b[1;33m}\u001b[0m\u001b[1;33m)\u001b[0m\u001b[1;33m\u001b[0m\u001b[1;33m\u001b[0m\u001b[0m\n\u001b[0;32m    226\u001b[0m \u001b[1;33m\u001b[0m\u001b[0m\n\u001b[1;32m--> 227\u001b[1;33m         return next(\n\u001b[0m\u001b[0;32m    228\u001b[0m             self.raw_parse_sents(\n\u001b[0;32m    229\u001b[0m                 \u001b[1;33m[\u001b[0m\u001b[0msentence\u001b[0m\u001b[1;33m]\u001b[0m\u001b[1;33m,\u001b[0m \u001b[0mproperties\u001b[0m\u001b[1;33m=\u001b[0m\u001b[0mdefault_properties\u001b[0m\u001b[1;33m,\u001b[0m \u001b[1;33m*\u001b[0m\u001b[0margs\u001b[0m\u001b[1;33m,\u001b[0m \u001b[1;33m**\u001b[0m\u001b[0mkwargs\u001b[0m\u001b[1;33m\u001b[0m\u001b[1;33m\u001b[0m\u001b[0m\n",
      "\u001b[1;31mStopIteration\u001b[0m: "
     ]
    }
   ],
   "source": [
    "%time test_parses = tokenizeAndParseSents(mini[:2])"
   ]
  },
  {
   "cell_type": "code",
   "execution_count": 88,
   "metadata": {},
   "outputs": [
    {
     "data": {
      "text/plain": [
       "[' Some teams improve by adding players .',\n",
       " 'Others make themselves better by getting rid of players .',\n",
       " 'Addition by subtraction , Branch Rickey called it .',\n",
       " 'Then there are the Yankees , who hope to prove that a team that won more games than any other in baseball history can at least repeat as champions , if not match or exceed that victory total , without making any changes .',\n",
       " \" When the Yankees ' pitchers and catchers have their first spring training workout in Tampa , Fla. , on Thursday and when the rest of the World Series winners join them Feb. 23 , they will not have to introduce themselves to each other .\",\n",
       " 'They are the same guys who dressed and played together last season .',\n",
       " ' True , Tim Raines will not be there , but he is the lone exception .',\n",
       " 'Every other member of the post-season team will be back in all the old familiar places .',\n",
       " 'Bernie Williams , who seemed certain to leave , stayed when the numbers after the dollar sign got big enough .',\n",
       " \" General Manager Brian Cashman could have made some moves just to keep the Yankees alert and prevent them from suffering a major attack of complacency , but he opted instead to follow the policy that says if it ai n't broke , do n't fix it .\",\n",
       " ' There was plenty of repair work going on elsewhere this winter , as some teams tried to improve themselves and others tried to mend the holes that were created when players found new addresses .',\n",
       " ' When spring training begins this week -- seven other teams besides the Yankees will start on Thursday , the first day workouts are permitted -- teams will get their first look at the changes they made or were forced to make , or at how gaping are the holes that were left by defections of free agents .',\n",
       " \" That threat would be Albert Belle , who brings to the home run haven of Camden Yards a bat that blistered American League pitchers for 31 home runs in the Chicago White Sox 's 76 games after the All-Star break , a total that nearly matched the 33 Mark McGwire hit in St. Louis 's 76 games after the break .\",\n",
       " ' The Mets , the team that most desperately wants to knock the Yankees from their lofty New York City perch , open camp Saturday with half a new infield , third baseman Robin Ventura and second baseman Edgardo Alfonzo , and two-thirds of a new outfield , Bobby Bonilla and Rickey Henderson .',\n",
       " ' The Yankees , Mets and Dodgers were among the teams that appeared to have the best off seasons .',\n",
       " 'They will have to demonstrate that on the field , of course .',\n",
       " ' The Atlanta Braves , the longest-running division champions ( seven consecutive titles ) , are another team in that category .',\n",
       " 'They bolstered their offense and defense by adding second baseman Bret Boone and right fielder Brian Jordan while sacrificing only a member of the strongest element of their team , pitcher Denny Neagle .',\n",
       " \" The Arizona Diamondbacks , starting their second season , are not in the class of the Yankees and the Braves , but they engaged in a frenzy of winter activity that got everyone 's attention .\",\n",
       " 'They bought a substantial part of their pitching rotation , signing Randy Johnson , Todd Stottlemyre and Armando Reynoso , and got two-thirds of a new outfield , Steve Finley and Luis Gonzalez .',\n",
       " ' For some teams , the winter has been a mean season .',\n",
       " \" The Royals really do not belong in the other teams ' class because they already were a bad team .\",\n",
       " 'But the loss of Dean Palmer ( 34 home runs , 119 runs batted in ) , Jose Offerman ( .315 ) and Tim Belcher ( 14-14 , 234 innings ) can only make them worse .',\n",
       " ' The Padres executed one of the neatest tricks of the off season .',\n",
       " 'A few weeks after their World Series appearance against the Yankees , they induced San Diego voters to approve funding for a new ball park .',\n",
       " 'Then in subsequent weeks they lost Brown , Finley and third baseman Ken Caminiti , then traded Greg Vaughn , who hit 50 home runs for them last season , and pitcher Joey Hamilton .',\n",
       " ' Like their National League champion predecessors , the Florida Marlins , the Padres are a shell of their former self and could return to last place , where they finished the year before they won the pennant .',\n",
       " 'Belle bolted for Baltimore , and Ventura veered to New York .',\n",
       " 'That leaves Frank Thomas , who endured the worst year of his career last season .',\n",
       " ' The Red Sox played out the last act of the yearlong tragedy they created with their No.',\n",
       " '1 hero , Mo Vaughn .',\n",
       " 'In that time , they never made Vaughn an offer he could accept .',\n",
       " 'But they did make Bernie Williams an offer Vaughn would not have refused , only to prompt the Yankees to raise their offer to Williams by nearly 50 percent .',\n",
       " 'So on the same day Vaughn signed with Anaheim , Williams re-signed with the Yankees .',\n",
       " 'A few days later Belle opted for the Orioles , and the Red Sox lineup was barren .',\n",
       " 'No big power hitter , no big run producer , no threat .',\n",
       " ' Davey Johnson , a winner wherever he has managed but a loser in his ability to keep a job , has been given the responsibility of shepherding the nouveau riche Dodgers to the promised land of high-spending teams .',\n",
       " \"Jim Leyland has been given $2 million a year in Colorado to work the magic that made the Rockies ' fellow expansion team , the Marlins , World Series champions in their fifth year of existence .\",\n",
       " ' The other new managers are John Boles , who has replaced Leyland , who had replaced him , and Larry Parrish , who begins his first spring training with the Detroit Tigers , whom he managed on an interim basis the final month of last season .',\n",
       " ' Several managers begin spring training with a real or perceived threat to their jobs .',\n",
       " 'Art Howe barely survived in Oakland last season , and Tim Johnson has to regain credibility in Toronto after he admitted concocting a tale about military service in Vietnam .',\n",
       " ' Some players will be missing when camps open .',\n",
       " 'They are the players who can begin active membership in the Major League Baseball Players Alumni Association .',\n",
       " ' Paul Molitor has retired after 21 years and 3,319 hits , eighth most in major league history .',\n",
       " 'Dennis Eckersley has retired after 24 years and a major league-record 1,071 games pitched .',\n",
       " 'Dennis Martinez has retired after 22 seasons and 245 victories , most ever by a Latin pitcher .',\n",
       " ' They are joined in their retirement by , among others , Joe Carter , Jimmy Key , Terry Pendleton , Juan Samuel and Bob Tewksbury .',\n",
       " 'Mark Wohlers , for example , should learn whether or not he has a future in baseball .',\n",
       " ' Wohlers is the erstwhile , engimatic closer of the Atlanta Braves who is trying to salvage his career .',\n",
       " 'It had been a steadily growing career until he encountered a loss of control and skills last season .',\n",
       " 'Thirty-three walks in 201/3 innings told the stunning tale of a wicked fastball gone awry .',\n",
       " 'The Braves will scrutinize the appearances of Wohlers in exhibition games this spring .',\n",
       " ' Alex Fernandez of Florida ( rotator cuff ) and Kevin Appier of Kansas City ( shoulder ) are two front-line starting pitchers who are coming back from disabling injuries .',\n",
       " 'If they show they are healthy , they could be traded to teams that like to pay high salaries .',\n",
       " 'The Chicago Cubs also will be watching the elbow of Kerry Wood , who burst onto the major league scene last season with an explosion of strikeouts .',\n",
       " 'The Yankees will watch Darryl Strawberry and his attempt to overcome colon cancer .',\n",
       " ' Some other matters to watch : Will the Toronto Blue Jays trade Roger Clemens , the Philadelphia Phillies Curt Schilling , the Milwaukee Brewers Fernando Vina ?',\n",
       " 'Will Omar Vizquel accept the contract he signed and not create a problem for the Cleveland Indians ?',\n",
       " \"Will Edgardo Alfonzo make a satisfactory transition from third base to second and advance the Mets ' wild-card cause ?\",\n",
       " ' http : //www.nytimes.com']"
      ]
     },
     "execution_count": 88,
     "metadata": {},
     "output_type": "execute_result"
    }
   ],
   "source": [
    "test_parses[0]"
   ]
  }
 ],
 "metadata": {
  "kernelspec": {
   "display_name": "Python 3",
   "language": "python",
   "name": "python3"
  },
  "language_info": {
   "codemirror_mode": {
    "name": "ipython",
    "version": 3
   },
   "file_extension": ".py",
   "mimetype": "text/x-python",
   "name": "python",
   "nbconvert_exporter": "python",
   "pygments_lexer": "ipython3",
   "version": "3.8.2"
  }
 },
 "nbformat": 4,
 "nbformat_minor": 4
}
