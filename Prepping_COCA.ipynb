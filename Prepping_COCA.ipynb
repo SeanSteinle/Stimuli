{
 "cells": [
  {
   "cell_type": "markdown",
   "metadata": {},
   "source": [
    "# Prepping COCA\n",
    "In this notebook, I'll prepare relevant COCA sections to train the Roark Parser.\n",
    "## Table of Contents\n",
    "1. [Loading COCA](#1)\n",
    "2. [Test Run](#2)\n",
    "3. [Full Run](#3)\n",
    "<a id='1'>"
   ]
  },
  {
   "cell_type": "markdown",
   "metadata": {},
   "source": [
    "## Loading COCA"
   ]
  },
  {
   "cell_type": "code",
   "execution_count": 1,
   "metadata": {},
   "outputs": [],
   "source": [
    "def openTextFile(filename):\n",
    "    text = []\n",
    "    file = open(filename)\n",
    "    lines = file.read() #char by char\n",
    "    file.close()\n",
    "    return lines"
   ]
  },
  {
   "cell_type": "code",
   "execution_count": 2,
   "metadata": {},
   "outputs": [
    {
     "name": "stdout",
     "output_type": "stream",
     "text": [
      "24273875\n"
     ]
    }
   ],
   "source": [
    "import os\n",
    "root = 'D:/COCA/stim/text_newspaper_lsp/'\n",
    "text_files = os.listdir(root)\n",
    "sample = openTextFile(root+text_files[0]) #one file is 25 million characters\n",
    "print(len(sample))\n",
    "mini = sample[:25000] #this is 1/1000th of one file. there are about 25 files in this directory, and we were talking about using 4 directories. so this is about 1/100,000th of the total text we can use.\n",
    "#mini"
   ]
  },
  {
   "cell_type": "markdown",
   "metadata": {},
   "source": [
    "<a id='2'>"
   ]
  },
  {
   "cell_type": "markdown",
   "metadata": {},
   "source": [
    "## Test Run"
   ]
  },
  {
   "cell_type": "code",
   "execution_count": 3,
   "metadata": {},
   "outputs": [],
   "source": [
    "import nltk\n",
    "import pandas as pd\n",
    "from stanfordcorenlp import StanfordCoreNLP\n",
    "from nltk import StanfordPOSTagger\n",
    "from nltk.parse import stanford\n",
    "from nltk.parse import CoreNLPParser\n",
    "parser = CoreNLPParser(url='http://localhost:9000')"
   ]
  },
  {
   "cell_type": "code",
   "execution_count": 4,
   "metadata": {},
   "outputs": [],
   "source": [
    "def cleanText(text):\n",
    "    sents = nltk.sent_tokenize(text)\n",
    "    clean_sents = []\n",
    "    for sent in sents:\n",
    "        if '@' in sent:\n",
    "            continue\n",
    "        if '<p>' in sent:\n",
    "            sent = sent.split('<p>')[1]\n",
    "        #take out low k-band words\n",
    "        clean_sents.append(sent)\n",
    "    return clean_sents"
   ]
  },
  {
   "cell_type": "code",
   "execution_count": 5,
   "metadata": {
    "scrolled": true
   },
   "outputs": [],
   "source": [
    "def growTrees(clean_sents):\n",
    "\n",
    "    forest = []\n",
    "    for sent in clean_sents:\n",
    "        trees = parser.raw_parse(sent)\n",
    "        for tree in trees:\n",
    "            forest.append(tree)    \n",
    "    return forest"
   ]
  },
  {
   "cell_type": "code",
   "execution_count": 8,
   "metadata": {},
   "outputs": [
    {
     "name": "stdout",
     "output_type": "stream",
     "text": [
      "Wall time: 15 ms\n",
      "Wall time: 34.6 s\n",
      "174\n",
      "174\n"
     ]
    },
    {
     "data": {
      "text/plain": [
       "[' Some teams improve by adding players .',\n",
       " 'Others make themselves better by getting rid of players .',\n",
       " 'Addition by subtraction , Branch Rickey called it .',\n",
       " 'Then there are the Yankees , who hope to prove that a team that won more games than any other in baseball history can at least repeat as champions , if not match or exceed that victory total , without making any changes .',\n",
       " \" When the Yankees ' pitchers and catchers have their first spring training workout in Tampa , Fla. , on Thursday and when the rest of the World Series winners join them Feb. 23 , they will not have to introduce themselves to each other .\",\n",
       " 'They are the same guys who dressed and played together last season .',\n",
       " ' True , Tim Raines will not be there , but he is the lone exception .',\n",
       " 'Every other member of the post-season team will be back in all the old familiar places .',\n",
       " 'Bernie Williams , who seemed certain to leave , stayed when the numbers after the dollar sign got big enough .',\n",
       " \" General Manager Brian Cashman could have made some moves just to keep the Yankees alert and prevent them from suffering a major attack of complacency , but he opted instead to follow the policy that says if it ai n't broke , do n't fix it .\"]"
      ]
     },
     "execution_count": 8,
     "metadata": {},
     "output_type": "execute_result"
    }
   ],
   "source": [
    "%time sents = cleanText(mini) #1\n",
    "%time parses = growTrees(sents) #10000\n",
    "print(len(sents))\n",
    "print(len(parses))\n",
    "sents[:10]"
   ]
  },
  {
   "cell_type": "code",
   "execution_count": 16,
   "metadata": {},
   "outputs": [],
   "source": [
    "import pickle\n",
    "file = open('mini_train.pkl', 'wb')\n",
    "pickle.dump(parses, file)\n",
    "file.close()"
   ]
  },
  {
   "cell_type": "markdown",
   "metadata": {},
   "source": [
    "<a id='3'>"
   ]
  },
  {
   "cell_type": "markdown",
   "metadata": {},
   "source": [
    "## Full Run"
   ]
  }
 ],
 "metadata": {
  "kernelspec": {
   "display_name": "Python 3",
   "language": "python",
   "name": "python3"
  },
  "language_info": {
   "codemirror_mode": {
    "name": "ipython",
    "version": 3
   },
   "file_extension": ".py",
   "mimetype": "text/x-python",
   "name": "python",
   "nbconvert_exporter": "python",
   "pygments_lexer": "ipython3",
   "version": "3.8.2"
  }
 },
 "nbformat": 4,
 "nbformat_minor": 4
}
