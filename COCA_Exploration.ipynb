{
 "cells": [
  {
   "cell_type": "code",
   "execution_count": 2,
   "metadata": {},
   "outputs": [
    {
     "data": {
      "text/plain": [
       "'@@3000041 <p> Basketball United States Wins Bronze Medal : The United States used another comeback yesterday to take the bronze medal at the world championships in Buenos Aires , beating Puerto Rico by 107-105 in overtime . Kenny Anderson scored 34 points and made two free throws with one second left to send the game into overtime after Puerto Rico led by 8 points with 1 minute 34 seconds to play in the second half . Yugoslavia , which beat the United States in the semifinals , will face the Soviet Union for the gold medal today . This was the fourth straight international tournament in which the United States had failed to win a gold . Any medal for the United States looked out of the question with 1:34 left in regulation when Raymond Gausse \\'s 3-pointer gave Puerto Rico a 96-88 lead . Then Anderson hit a jumper with 1:21 to play to get the United States within 6 , and Puerto Rico opted for possession rather than foul shots four times in the final 1:19 . After a backcourt violation , Anderson made two free throws with 51 seconds left . Todd Day scored 14 seconds later @ @ @ @ @ @ @ @ @ @ another Puerto Rico turnover . Jose Ortiz , who had 25 points and 11 rebounds , tried to inbound the ball , but overthrew Federico Lopez , and the Americans had possession and a chance for their third comeback victory in the tournament . Anderson took the ball , drove into two players and took a jumper . He was fouled and hit two free throws to make the score 96-96 . The United States scored the first 4 points of overtime . Edgar Leon scored inside for Puerto Rico with 2:37 left , then Anderson , gave the United States a 5-point cushion with a 3-pointer 27 seconds later . ( AP ) Diving Titles for Ferguson and Williams : Kent Ferguson regained his 3-meter springboard title and Wendy Williams successfully defended her platform title yesterday at the national outdoor championships in Dallas . Ferguson overtook the leader and defending three-meter champion , Mark Bradshaw , in the fifth round of dives , then led the rest of the way , finishing with 653.70 points . Scott Donie was second with 628.56 . Matt Scoggin took third with 620.19 @ @ @ @ @ @ @ @ @ @ . She moved into the lead on her next dive and increased the margin to 30 points over Kathy Carboy . Carboy ended with 378.96 points , beating Kelly Jenkins , who had 365.34 . The championships end today with the finals in the women \\'s 3-meter springboard and men \\'s 10-meter platform . ( AP ) Boxing Benn Stops Barkley Quickly : Nigel Benn of Britain retained his World Boxing Organization middleweight championship yesterday by stopping Iran Barkley of New York in the first round of their scheduledJU 12-round bout in Las Vegas , Nev . Benn knocked down Barkley three times in the first round , ending the bout under Nevada rules . The end came at 2:57 . There was momentary confusion , however , over whether the bout was over . Referee Carlos Padilla had to confer with members of the Nevada State Athletic Commission to determine whether Barkley \\'s third time on the canvas was a knockdown or just a slip . The commissioners ruled that Benn \\'s last flurry , two rights to the head and a third right that missed , had produced @ @ @ @ @ @ @ @ @ @ World Boxing Council middleweight champion , with a 25-7 record and 16 knockouts . Bennhas a 27-1 mark with 25 knockouts . ( AP ) Golf 2 or 24 Share Lead : There were either 2 or 24 co-leaders yesterday after the third round of the International tournament in Castle Rock , Colo . The scoreboard at the Castle Pines Golf Club showed Eduardo Romero of Argentina and Jose-Maria Olazabal of Spain tied for the top spot with 26 points each . But under the peculiar format for the event they were , in effect , tied with 22 others , some of whom were 10 points behind them . The top 24 point-makers from the first three days \\' play advanced to today \\'s final round , and at that point , all scores reverted to zero , so the 54-hole lead was meaningless . There were no leaders , only survivors . In fact , the third-round co-leaders did n\\'t even win unofficial \" day money \" that went to the player with the best point total for the third round . That $10,000 prize went to Davis @ @ @ @ @ @ @ @ @ @ in yesterday \\'s play . Scoring in the event is based on a modified Stableford system , in which points are awarded for the players \\' performance on each hole : 5 for eagle , 2 for birdie , 0 for par , -1 for bogey and -3 for double-bogey or higher . It took a score of 16 points or better for three rounds to make it to the final round . Among the casualties were Hale Irwin , Greg Norman and Jack Nicklaus , who designed the course in the eastern foothills of the Rockies . ( AP ) Bies Hold Seniors Lead : Don Bies shot a 66 yesterday to take a two-stroke lead over Mike Hill and Rives McBee in the Seniors Showdown Classic in Jeremy Ranch , Utah . Bies , of La Quinta , Calif. , finished with a 36-hole total of 132 , 12 under par , over the hilly Jeremy Ranch Golf Club course . McBee , who led after Friday \\'s first round with a tournament-record of 64 , fired a 70 . Hill led briefly after moving to 12 under @ @ @ @ @ @ @ @ @ @ bogeys on the final two holes to finish with a 68 . ( AP ) Little League Pennsylvania Team Gains : The Shippensburg team from Pennsylvania advanced to the Little League World Series yesterday by defeating Newark American of Delaware , 8-2 , in the final of the Eastern regional tournament at Bristol , Conn . Bob Shannon pitched a complete game for Shippensburg , which finished with a 15-0 record in tournament play . Shippensburg will meet the Cottage Hill team from Mobile , Ala. , the representative from the Southern region , in a first-round game Wednesday . The World Series , which includes the four regional winners and four international teams , begins Tuesday in Williamsport , Pa . A team from Brooklyn , Mich. , representing the Central region , will meet the winner of last night \\'s Western final between Cypress , Calif. , and East Boise , Idaho . \\n'"
      ]
     },
     "execution_count": 2,
     "metadata": {},
     "output_type": "execute_result"
    }
   ],
   "source": [
    "file = open('text_news.txt')\n",
    "text = file.readlines()\n",
    "text[1]"
   ]
  },
  {
   "cell_type": "code",
   "execution_count": 34,
   "metadata": {},
   "outputs": [
    {
     "name": "stdout",
     "output_type": "stream",
     "text": [
      "6\n"
     ]
    },
    {
     "data": {
      "text/plain": [
       "['Kenny Anderson scored 34 points and made two free throws with one second left to send the game into overtime after Puerto Rico led by 8 points with 1 minute 34 seconds to play in the second half .',\n",
       " 'Yugoslavia , which beat the United States in the semifinals , will face the Soviet Union for the gold medal today .',\n",
       " 'This was the fourth straight international tournament in which the United States had failed to win a gold .',\n",
       " \"Any medal for the United States looked out of the question with 1:34 left in regulation when Raymond Gausse 's 3-pointer gave Puerto Rico a 96-88 lead .\",\n",
       " 'Then Anderson hit a jumper with 1:21 to play to get the United States within 6 , and Puerto Rico opted for possession rather than foul shots four times in the final 1:19 .',\n",
       " 'After a backcourt violation , Anderson made two free throws with 51 seconds left .',\n",
       " 'Jose Ortiz , who had 25 points and 11 rebounds , tried to inbound the ball , but overthrew Federico Lopez , and the Americans had possession and a chance for their third comeback victory in the tournament .',\n",
       " 'Anderson took the ball , drove into two players and took a jumper .',\n",
       " 'He was fouled and hit two free throws to make the score 96-96 .',\n",
       " 'The United States scored the first 4 points of overtime .',\n",
       " 'Edgar Leon scored inside for Puerto Rico with 2:37 left , then Anderson , gave the United States a 5-point cushion with a 3-pointer 27 seconds later .',\n",
       " '( AP ) Diving Titles for Ferguson and Williams : Kent Ferguson regained his 3-meter springboard title and Wendy Williams successfully defended her platform title yesterday at the national outdoor championships in Dallas .',\n",
       " 'Ferguson overtook the leader and defending three-meter champion , Mark Bradshaw , in the fifth round of dives , then led the rest of the way , finishing with 653.70 points .',\n",
       " 'Scott Donie was second with 628.56 .',\n",
       " 'She moved into the lead on her next dive and increased the margin to 30 points over Kathy Carboy .',\n",
       " 'Carboy ended with 378.96 points , beating Kelly Jenkins , who had 365.34 .',\n",
       " \"The championships end today with the finals in the women 's 3-meter springboard and men 's 10-meter platform .\",\n",
       " '( AP ) Boxing Benn Stops Barkley Quickly : Nigel Benn of Britain retained his World Boxing Organization middleweight championship yesterday by stopping Iran Barkley of New York in the first round of their scheduledJU 12-round bout in Las Vegas , Nev .',\n",
       " 'Benn knocked down Barkley three times in the first round , ending the bout under Nevada rules .',\n",
       " 'The end came at 2:57 .',\n",
       " 'There was momentary confusion , however , over whether the bout was over .',\n",
       " \"Referee Carlos Padilla had to confer with members of the Nevada State Athletic Commission to determine whether Barkley 's third time on the canvas was a knockdown or just a slip .\",\n",
       " 'Bennhas a 27-1 mark with 25 knockouts .',\n",
       " '( AP ) Golf 2 or 24 Share Lead : There were either 2 or 24 co-leaders yesterday after the third round of the International tournament in Castle Rock , Colo .',\n",
       " 'The scoreboard at the Castle Pines Golf Club showed Eduardo Romero of Argentina and Jose-Maria Olazabal of Spain tied for the top spot with 26 points each .',\n",
       " 'But under the peculiar format for the event they were , in effect , tied with 22 others , some of whom were 10 points behind them .',\n",
       " \"The top 24 point-makers from the first three days ' play advanced to today 's final round , and at that point , all scores reverted to zero , so the 54-hole lead was meaningless .\",\n",
       " 'There were no leaders , only survivors .',\n",
       " 'In fact , the third-round co-leaders did n\\'t even win unofficial \" day money \" that went to the player with the best point total for the third round .',\n",
       " \"Scoring in the event is based on a modified Stableford system , in which points are awarded for the players ' performance on each hole : 5 for eagle , 2 for birdie , 0 for par , -1 for bogey and -3 for double-bogey or higher .\",\n",
       " 'It took a score of 16 points or better for three rounds to make it to the final round .',\n",
       " 'Among the casualties were Hale Irwin , Greg Norman and Jack Nicklaus , who designed the course in the eastern foothills of the Rockies .',\n",
       " '( AP ) Bies Hold Seniors Lead : Don Bies shot a 66 yesterday to take a two-stroke lead over Mike Hill and Rives McBee in the Seniors Showdown Classic in Jeremy Ranch , Utah .',\n",
       " 'Bies , of La Quinta , Calif. , finished with a 36-hole total of 132 , 12 under par , over the hilly Jeremy Ranch Golf Club course .',\n",
       " \"McBee , who led after Friday 's first round with a tournament-record of 64 , fired a 70 .\",\n",
       " '( AP ) Little League Pennsylvania Team Gains : The Shippensburg team from Pennsylvania advanced to the Little League World Series yesterday by defeating Newark American of Delaware , 8-2 , in the final of the Eastern regional tournament at Bristol , Conn .',\n",
       " 'Bob Shannon pitched a complete game for Shippensburg , which finished with a 15-0 record in tournament play .',\n",
       " 'Shippensburg will meet the Cottage Hill team from Mobile , Ala. , the representative from the Southern region , in a first-round game Wednesday .',\n",
       " 'The World Series , which includes the four regional winners and four international teams , begins Tuesday in Williamsport , Pa .',\n",
       " \"A team from Brooklyn , Mich. , representing the Central region , will meet the winner of last night 's Western final between Cypress , Calif. , and East Boise , Idaho .\"]"
      ]
     },
     "execution_count": 34,
     "metadata": {},
     "output_type": "execute_result"
    },
    {
     "data": {
      "text/plain": [
       "'Edgar Leon scored inside for Puerto Rico with 2:37 left , then Anderson , gave the United States a 5-point cushion with a 3-pointer 27 seconds later .'"
      ]
     },
     "execution_count": 34,
     "metadata": {},
     "output_type": "execute_result"
    }
   ],
   "source": [
    "count = 0\n",
    "import nltk\n",
    "sents = nltk.sent_tokenize(text[1])\n",
    "for sent in sents:\n",
    "    if '@' in sent:\n",
    "        sents.remove(sent)\n",
    "        count +=1\n",
    "print(count)\n",
    "sents[:100]\n",
    "sents[10]"
   ]
  },
  {
   "cell_type": "code",
   "execution_count": 11,
   "metadata": {},
   "outputs": [],
   "source": [
    "import pandas as pd\n",
    "from stanfordcorenlp import StanfordCoreNLP\n",
    "from nltk import StanfordPOSTagger\n",
    "from nltk.parse import stanford\n",
    "from nltk.parse import CoreNLPParser\n",
    "from IPython.core.interactiveshell import InteractiveShell\n",
    "InteractiveShell.ast_node_interactivity = \"all\""
   ]
  },
  {
   "cell_type": "code",
   "execution_count": 23,
   "metadata": {},
   "outputs": [],
   "source": [
    "parser = CoreNLPParser(url='http://localhost:9000')"
   ]
  },
  {
   "cell_type": "code",
   "execution_count": 25,
   "metadata": {},
   "outputs": [
    {
     "data": {
      "text/plain": [
       "[Tree('ROOT', [Tree('S', [Tree('NP', [Tree('NNP', ['Kenny']), Tree('NNP', ['Anderson'])]), Tree('VP', [Tree('VP', [Tree('VBD', ['scored']), Tree('NP', [Tree('CD', ['34']), Tree('NNS', ['points'])])]), Tree('CC', ['and']), Tree('VP', [Tree('VBD', ['made']), Tree('NP', [Tree('CD', ['two'])])]), Tree('ADVP', [Tree('JJ', ['free'])]), Tree('VP', [Tree('VBZ', ['throws']), Tree('PP', [Tree('IN', ['with']), Tree('NP', [Tree('CD', ['one'])])]), Tree('NP', [Tree('NP', [Tree('JJ', ['second'])]), Tree('VP', [Tree('VBN', ['left']), Tree('S', [Tree('VP', [Tree('TO', ['to']), Tree('VP', [Tree('VB', ['send']), Tree('NP', [Tree('DT', ['the']), Tree('NN', ['game'])]), Tree('PP', [Tree('IN', ['into']), Tree('NP', [Tree('NN', ['overtime'])])]), Tree('SBAR', [Tree('IN', ['after']), Tree('S', [Tree('NP', [Tree('NNP', ['Puerto']), Tree('NNP', ['Rico'])]), Tree('VP', [Tree('VBD', ['led']), Tree('PP', [Tree('IN', ['by']), Tree('NP', [Tree('NP', [Tree('CD', ['8']), Tree('NNS', ['points'])]), Tree('PP', [Tree('IN', ['with']), Tree('NP', [Tree('CD', ['1']), Tree('ADJP', [Tree('NN', ['minute']), Tree('CD', ['34'])]), Tree('NNS', ['seconds'])])])])]), Tree('S', [Tree('VP', [Tree('TO', ['to']), Tree('VP', [Tree('VB', ['play']), Tree('PP', [Tree('IN', ['in']), Tree('NP', [Tree('DT', ['the']), Tree('JJ', ['second']), Tree('NN', ['half'])])])])])])])])])])])])])])])]), Tree('.', ['.'])])]),\n",
       " Tree('ROOT', [Tree('S', [Tree('NP', [Tree('NP', [Tree('NNP', ['Yugoslavia'])]), Tree(',', [',']), Tree('SBAR', [Tree('WHNP', [Tree('WDT', ['which'])]), Tree('S', [Tree('VP', [Tree('VBD', ['beat']), Tree('NP', [Tree('DT', ['the']), Tree('NNP', ['United']), Tree('NNPS', ['States'])]), Tree('PP', [Tree('IN', ['in']), Tree('NP', [Tree('DT', ['the']), Tree('NNS', ['semifinals'])])])])])]), Tree(',', [','])]), Tree('VP', [Tree('MD', ['will']), Tree('VP', [Tree('VB', ['face']), Tree('NP', [Tree('NP', [Tree('DT', ['the']), Tree('NNP', ['Soviet']), Tree('NNP', ['Union'])]), Tree('PP', [Tree('IN', ['for']), Tree('NP', [Tree('DT', ['the']), Tree('NN', ['gold']), Tree('NN', ['medal'])])])]), Tree('NP-TMP', [Tree('NN', ['today'])])])]), Tree('.', ['.'])])]),\n",
       " Tree('ROOT', [Tree('S', [Tree('NP', [Tree('DT', ['This'])]), Tree('VP', [Tree('VBD', ['was']), Tree('NP', [Tree('NP', [Tree('DT', ['the']), Tree('JJ', ['fourth']), Tree('JJ', ['straight']), Tree('JJ', ['international']), Tree('NN', ['tournament'])]), Tree('SBAR', [Tree('WHPP', [Tree('IN', ['in']), Tree('WHNP', [Tree('WDT', ['which'])])]), Tree('S', [Tree('NP', [Tree('DT', ['the']), Tree('NNP', ['United']), Tree('NNPS', ['States'])]), Tree('VP', [Tree('VBD', ['had']), Tree('VP', [Tree('VBN', ['failed']), Tree('S', [Tree('VP', [Tree('TO', ['to']), Tree('VP', [Tree('VB', ['win']), Tree('NP', [Tree('DT', ['a']), Tree('NN', ['gold'])])])])])])])])])])]), Tree('.', ['.'])])]),\n",
       " Tree('ROOT', [Tree('S', [Tree('NP', [Tree('NP', [Tree('DT', ['Any']), Tree('NN', ['medal'])]), Tree('PP', [Tree('IN', ['for']), Tree('NP', [Tree('DT', ['the']), Tree('NNP', ['United']), Tree('NNPS', ['States'])])])]), Tree('VP', [Tree('VBD', ['looked']), Tree('ADVP', [Tree('IN', ['out']), Tree('PP', [Tree('IN', ['of']), Tree('NP', [Tree('DT', ['the']), Tree('NN', ['question'])])])]), Tree('PP', [Tree('IN', ['with']), Tree('NP', [Tree('NP', [Tree('CD', ['1:34'])]), Tree('VP', [Tree('VBN', ['left']), Tree('PP', [Tree('IN', ['in']), Tree('NP', [Tree('NN', ['regulation'])])]), Tree('SBAR', [Tree('WHADVP', [Tree('WRB', ['when'])]), Tree('S', [Tree('NP', [Tree('NP', [Tree('NNP', ['Raymond']), Tree('NNP', ['Gausse']), Tree('POS', [\"'s\"])]), Tree('JJ', ['3-pointer'])]), Tree('VP', [Tree('VBD', ['gave']), Tree('NP', [Tree('NNP', ['Puerto']), Tree('NNP', ['Rico'])]), Tree('NP', [Tree('DT', ['a']), Tree('CD', ['96-88']), Tree('NN', ['lead'])])])])])])])])]), Tree('.', ['.'])])]),\n",
       " Tree('ROOT', [Tree('S', [Tree('S', [Tree('ADVP', [Tree('RB', ['Then'])]), Tree('NP', [Tree('NNP', ['Anderson'])]), Tree('VP', [Tree('VBD', ['hit']), Tree('NP', [Tree('DT', ['a']), Tree('NN', ['jumper'])]), Tree('PP', [Tree('IN', ['with']), Tree('NP', [Tree('CD', ['1:21'])])]), Tree('S', [Tree('VP', [Tree('TO', ['to']), Tree('VP', [Tree('VB', ['play']), Tree('S', [Tree('VP', [Tree('TO', ['to']), Tree('VP', [Tree('VB', ['get']), Tree('NP', [Tree('DT', ['the']), Tree('NNP', ['United']), Tree('NNPS', ['States'])]), Tree('PP', [Tree('IN', ['within']), Tree('NP', [Tree('CD', ['6'])])])])])])])])])])]), Tree(',', [',']), Tree('CC', ['and']), Tree('S', [Tree('NP', [Tree('NNP', ['Puerto']), Tree('NNP', ['Rico'])]), Tree('VP', [Tree('VBD', ['opted']), Tree('PP', [Tree('IN', ['for']), Tree('NP', [Tree('NP', [Tree('NN', ['possession'])]), Tree('CONJP', [Tree('RB', ['rather']), Tree('IN', ['than'])]), Tree('NP', [Tree('JJ', ['foul']), Tree('NNS', ['shots'])])])]), Tree('NP-TMP', [Tree('CD', ['four']), Tree('NNS', ['times'])]), Tree('PP', [Tree('IN', ['in']), Tree('NP', [Tree('DT', ['the']), Tree('JJ', ['final']), Tree('CD', ['1:19'])])])])]), Tree('.', ['.'])])]),\n",
       " Tree('ROOT', [Tree('S', [Tree('PP', [Tree('IN', ['After']), Tree('NP', [Tree('DT', ['a']), Tree('NN', ['backcourt']), Tree('NN', ['violation'])])]), Tree(',', [',']), Tree('NP', [Tree('NNP', ['Anderson'])]), Tree('VP', [Tree('VBD', ['made']), Tree('SBAR', [Tree('S', [Tree('NP', [Tree('CD', ['two'])]), Tree('ADVP', [Tree('JJ', ['free'])]), Tree('VP', [Tree('VBZ', ['throws']), Tree('PP', [Tree('IN', ['with']), Tree('NP', [Tree('NP', [Tree('CD', ['51']), Tree('NNS', ['seconds'])]), Tree('VP', [Tree('VBD', ['left'])])])])])])])]), Tree('.', ['.'])])]),\n",
       " Tree('ROOT', [Tree('S', [Tree('S', [Tree('NP', [Tree('NP', [Tree('NNP', ['Jose']), Tree('NNP', ['Ortiz'])]), Tree(',', [',']), Tree('SBAR', [Tree('WHNP', [Tree('WP', ['who'])]), Tree('S', [Tree('VP', [Tree('VBD', ['had']), Tree('NP', [Tree('NP', [Tree('CD', ['25']), Tree('NNS', ['points'])]), Tree('CC', ['and']), Tree('NP', [Tree('CD', ['11']), Tree('NNS', ['rebounds'])])])])])]), Tree(',', [','])]), Tree('VP', [Tree('VP', [Tree('VBD', ['tried']), Tree('PP', [Tree('TO', ['to']), Tree('NP', [Tree('JJ', ['inbound']), Tree('DT', ['the']), Tree('NN', ['ball'])])])]), Tree(',', [',']), Tree('CC', ['but']), Tree('VP', [Tree('VBD', ['overthrew']), Tree('NP', [Tree('NNP', ['Federico']), Tree('NNP', ['Lopez'])])])])]), Tree(',', [',']), Tree('CC', ['and']), Tree('S', [Tree('NP', [Tree('DT', ['the']), Tree('NNPS', ['Americans'])]), Tree('VP', [Tree('VBD', ['had']), Tree('NP', [Tree('NP', [Tree('NN', ['possession'])]), Tree('CC', ['and']), Tree('NP', [Tree('DT', ['a']), Tree('NN', ['chance'])])]), Tree('PP', [Tree('IN', ['for']), Tree('NP', [Tree('NP', [Tree('PRP$', ['their']), Tree('JJ', ['third']), Tree('NN', ['comeback']), Tree('NN', ['victory'])]), Tree('PP', [Tree('IN', ['in']), Tree('NP', [Tree('DT', ['the']), Tree('NN', ['tournament'])])])])])])]), Tree('.', ['.'])])]),\n",
       " Tree('ROOT', [Tree('S', [Tree('NP', [Tree('NNP', ['Anderson'])]), Tree('VP', [Tree('VP', [Tree('VBD', ['took']), Tree('NP', [Tree('DT', ['the']), Tree('NN', ['ball'])])]), Tree(',', [',']), Tree('VP', [Tree('VBD', ['drove']), Tree('PP', [Tree('IN', ['into']), Tree('NP', [Tree('CD', ['two']), Tree('NNS', ['players'])])])]), Tree('CC', ['and']), Tree('VP', [Tree('VBD', ['took']), Tree('NP', [Tree('DT', ['a']), Tree('NN', ['jumper'])])])]), Tree('.', ['.'])])]),\n",
       " Tree('ROOT', [Tree('S', [Tree('NP', [Tree('PRP', ['He'])]), Tree('VP', [Tree('VBD', ['was']), Tree('VP', [Tree('VBN', ['fouled']), Tree('CC', ['and']), Tree('VBN', ['hit']), Tree('SBAR', [Tree('WHNP', [Tree('WHNP', [Tree('CD', ['two'])]), Tree('ADJP', [Tree('JJ', ['free'])])]), Tree('S', [Tree('VP', [Tree('VBZ', ['throws']), Tree('S', [Tree('VP', [Tree('TO', ['to']), Tree('VP', [Tree('VB', ['make']), Tree('NP', [Tree('DT', ['the']), Tree('NN', ['score']), Tree('CD', ['96-96'])])])])])])])])])]), Tree('.', ['.'])])]),\n",
       " Tree('ROOT', [Tree('S', [Tree('NP', [Tree('DT', ['The']), Tree('NNP', ['United']), Tree('NNPS', ['States'])]), Tree('VP', [Tree('VBD', ['scored']), Tree('NP', [Tree('NP', [Tree('DT', ['the']), Tree('JJ', ['first']), Tree('CD', ['4']), Tree('NNS', ['points'])]), Tree('PP', [Tree('IN', ['of']), Tree('NP', [Tree('NN', ['overtime'])])])])]), Tree('.', ['.'])])])]"
      ]
     },
     "execution_count": 25,
     "metadata": {},
     "output_type": "execute_result"
    }
   ],
   "source": [
    "coca_trees = []\n",
    "for sent in sents:\n",
    "    trees = parser.raw_parse(sent)\n",
    "    for tree in trees:\n",
    "        coca_trees.append(tree)\n",
    "coca_trees[:10]"
   ]
  },
  {
   "cell_type": "code",
   "execution_count": 33,
   "metadata": {
    "scrolled": false
   },
   "outputs": [
    {
     "name": "stdout",
     "output_type": "stream",
     "text": [
      "                              ROOT                                \n",
      "                               |                                   \n",
      "                               S                                  \n",
      "       ________________________|________________________________   \n",
      "      |                   VP                                    | \n",
      "      |              _____|_________                            |  \n",
      "      |             |               NP                          | \n",
      "      |             |           ____|______________             |  \n",
      "      |             |          |                   PP           | \n",
      "      |             |          |                ___|_____       |  \n",
      "      NP            |          NP              |         NP     | \n",
      "  ____|______       |      ____|_________      |         |      |  \n",
      " DT  NNP    NNPS   VBD    DT   JJ   CD  NNS    IN        NN     . \n",
      " |    |      |      |     |    |    |    |     |         |      |  \n",
      "The United States scored the first  4  points  of     overtime  . \n",
      "\n"
     ]
    }
   ],
   "source": [
    "coca_trees[9].pretty_print()"
   ]
  },
  {
   "cell_type": "code",
   "execution_count": 12,
   "metadata": {},
   "outputs": [],
   "source": [
    "from nltk.corpus import treebank"
   ]
  },
  {
   "cell_type": "code",
   "execution_count": 17,
   "metadata": {},
   "outputs": [],
   "source": [
    "trees = treebank.parsed_sents()"
   ]
  },
  {
   "cell_type": "code",
   "execution_count": 19,
   "metadata": {},
   "outputs": [
    {
     "data": {
      "text/plain": [
       "nltk.corpus.reader.util.ConcatenatedCorpusView"
      ]
     },
     "execution_count": 19,
     "metadata": {},
     "output_type": "execute_result"
    },
    {
     "data": {
      "text/plain": [
       "3914"
      ]
     },
     "execution_count": 19,
     "metadata": {},
     "output_type": "execute_result"
    }
   ],
   "source": [
    "type(trees)\n",
    "len(trees)"
   ]
  },
  {
   "cell_type": "code",
   "execution_count": 20,
   "metadata": {},
   "outputs": [
    {
     "name": "stderr",
     "output_type": "stream",
     "text": [
      "The Ghostscript executable isn't found.\n",
      "See http://web.mit.edu/ghostscript/www/Install.htm\n",
      "If you're using a Mac, you can try installing\n",
      "https://docs.brew.sh/Installation then `brew install ghostscript`\n"
     ]
    },
    {
     "ename": "LookupError",
     "evalue": "",
     "output_type": "error",
     "traceback": [
      "\u001b[1;31m---------------------------------------------------------------------------\u001b[0m",
      "\u001b[1;31mLookupError\u001b[0m                               Traceback (most recent call last)",
      "\u001b[1;32mc:\\users\\brett\\desktop\\newdesktop\\academics\\stimuli\\stim_dev\\lib\\site-packages\\nltk\\tree.py\u001b[0m in \u001b[0;36m_repr_png_\u001b[1;34m(self)\u001b[0m\n\u001b[0;32m    797\u001b[0m                     [\n\u001b[1;32m--> 798\u001b[1;33m                         find_binary(\n\u001b[0m\u001b[0;32m    799\u001b[0m                             \u001b[1;34m\"gs\"\u001b[0m\u001b[1;33m,\u001b[0m\u001b[1;33m\u001b[0m\u001b[1;33m\u001b[0m\u001b[0m\n",
      "\u001b[1;32mc:\\users\\brett\\desktop\\newdesktop\\academics\\stimuli\\stim_dev\\lib\\site-packages\\nltk\\internals.py\u001b[0m in \u001b[0;36mfind_binary\u001b[1;34m(name, path_to_bin, env_vars, searchpath, binary_names, url, verbose)\u001b[0m\n\u001b[0;32m    687\u001b[0m ):\n\u001b[1;32m--> 688\u001b[1;33m     return next(\n\u001b[0m\u001b[0;32m    689\u001b[0m         find_binary_iter(\n",
      "\u001b[1;32mc:\\users\\brett\\desktop\\newdesktop\\academics\\stimuli\\stim_dev\\lib\\site-packages\\nltk\\internals.py\u001b[0m in \u001b[0;36mfind_binary_iter\u001b[1;34m(name, path_to_bin, env_vars, searchpath, binary_names, url, verbose)\u001b[0m\n\u001b[0;32m    672\u001b[0m     \"\"\"\n\u001b[1;32m--> 673\u001b[1;33m     for file in find_file_iter(\n\u001b[0m\u001b[0;32m    674\u001b[0m         \u001b[0mpath_to_bin\u001b[0m \u001b[1;32mor\u001b[0m \u001b[0mname\u001b[0m\u001b[1;33m,\u001b[0m \u001b[0menv_vars\u001b[0m\u001b[1;33m,\u001b[0m \u001b[0msearchpath\u001b[0m\u001b[1;33m,\u001b[0m \u001b[0mbinary_names\u001b[0m\u001b[1;33m,\u001b[0m \u001b[0murl\u001b[0m\u001b[1;33m,\u001b[0m \u001b[0mverbose\u001b[0m\u001b[1;33m\u001b[0m\u001b[1;33m\u001b[0m\u001b[0m\n",
      "\u001b[1;32mc:\\users\\brett\\desktop\\newdesktop\\academics\\stimuli\\stim_dev\\lib\\site-packages\\nltk\\internals.py\u001b[0m in \u001b[0;36mfind_file_iter\u001b[1;34m(filename, env_vars, searchpath, file_names, url, verbose, finding_dir)\u001b[0m\n\u001b[0;32m    631\u001b[0m         \u001b[0mdiv\u001b[0m \u001b[1;33m=\u001b[0m \u001b[1;34m\"=\"\u001b[0m \u001b[1;33m*\u001b[0m \u001b[1;36m75\u001b[0m\u001b[1;33m\u001b[0m\u001b[1;33m\u001b[0m\u001b[0m\n\u001b[1;32m--> 632\u001b[1;33m         \u001b[1;32mraise\u001b[0m \u001b[0mLookupError\u001b[0m\u001b[1;33m(\u001b[0m\u001b[1;34m\"\\n\\n%s\\n%s\\n%s\"\u001b[0m \u001b[1;33m%\u001b[0m \u001b[1;33m(\u001b[0m\u001b[0mdiv\u001b[0m\u001b[1;33m,\u001b[0m \u001b[0mmsg\u001b[0m\u001b[1;33m,\u001b[0m \u001b[0mdiv\u001b[0m\u001b[1;33m)\u001b[0m\u001b[1;33m)\u001b[0m\u001b[1;33m\u001b[0m\u001b[1;33m\u001b[0m\u001b[0m\n\u001b[0m\u001b[0;32m    633\u001b[0m \u001b[1;33m\u001b[0m\u001b[0m\n",
      "\u001b[1;31mLookupError\u001b[0m: \n\n===========================================================================\nNLTK was unable to find the gs file!\nUse software specific configuration paramaters or set the PATH environment variable.\n===========================================================================",
      "\nDuring handling of the above exception, another exception occurred:\n",
      "\u001b[1;31mLookupError\u001b[0m                               Traceback (most recent call last)",
      "\u001b[1;32mc:\\users\\brett\\desktop\\newdesktop\\academics\\stimuli\\stim_dev\\lib\\site-packages\\IPython\\core\\formatters.py\u001b[0m in \u001b[0;36m__call__\u001b[1;34m(self, obj)\u001b[0m\n\u001b[0;32m    343\u001b[0m             \u001b[0mmethod\u001b[0m \u001b[1;33m=\u001b[0m \u001b[0mget_real_method\u001b[0m\u001b[1;33m(\u001b[0m\u001b[0mobj\u001b[0m\u001b[1;33m,\u001b[0m \u001b[0mself\u001b[0m\u001b[1;33m.\u001b[0m\u001b[0mprint_method\u001b[0m\u001b[1;33m)\u001b[0m\u001b[1;33m\u001b[0m\u001b[1;33m\u001b[0m\u001b[0m\n\u001b[0;32m    344\u001b[0m             \u001b[1;32mif\u001b[0m \u001b[0mmethod\u001b[0m \u001b[1;32mis\u001b[0m \u001b[1;32mnot\u001b[0m \u001b[1;32mNone\u001b[0m\u001b[1;33m:\u001b[0m\u001b[1;33m\u001b[0m\u001b[1;33m\u001b[0m\u001b[0m\n\u001b[1;32m--> 345\u001b[1;33m                 \u001b[1;32mreturn\u001b[0m \u001b[0mmethod\u001b[0m\u001b[1;33m(\u001b[0m\u001b[1;33m)\u001b[0m\u001b[1;33m\u001b[0m\u001b[1;33m\u001b[0m\u001b[0m\n\u001b[0m\u001b[0;32m    346\u001b[0m             \u001b[1;32mreturn\u001b[0m \u001b[1;32mNone\u001b[0m\u001b[1;33m\u001b[0m\u001b[1;33m\u001b[0m\u001b[0m\n\u001b[0;32m    347\u001b[0m         \u001b[1;32melse\u001b[0m\u001b[1;33m:\u001b[0m\u001b[1;33m\u001b[0m\u001b[1;33m\u001b[0m\u001b[0m\n",
      "\u001b[1;32mc:\\users\\brett\\desktop\\newdesktop\\academics\\stimuli\\stim_dev\\lib\\site-packages\\nltk\\tree.py\u001b[0m in \u001b[0;36m_repr_png_\u001b[1;34m(self)\u001b[0m\n\u001b[0;32m    815\u001b[0m                 )\n\u001b[0;32m    816\u001b[0m                 \u001b[0mprint\u001b[0m\u001b[1;33m(\u001b[0m\u001b[0mpre_error_message\u001b[0m\u001b[1;33m,\u001b[0m \u001b[0mfile\u001b[0m\u001b[1;33m=\u001b[0m\u001b[0msys\u001b[0m\u001b[1;33m.\u001b[0m\u001b[0mstderr\u001b[0m\u001b[1;33m)\u001b[0m\u001b[1;33m\u001b[0m\u001b[1;33m\u001b[0m\u001b[0m\n\u001b[1;32m--> 817\u001b[1;33m                 \u001b[1;32mraise\u001b[0m \u001b[0mLookupError\u001b[0m\u001b[1;33m\u001b[0m\u001b[1;33m\u001b[0m\u001b[0m\n\u001b[0m\u001b[0;32m    818\u001b[0m \u001b[1;33m\u001b[0m\u001b[0m\n\u001b[0;32m    819\u001b[0m             \u001b[1;32mwith\u001b[0m \u001b[0mopen\u001b[0m\u001b[1;33m(\u001b[0m\u001b[0mout_path\u001b[0m\u001b[1;33m,\u001b[0m \u001b[1;34m\"rb\"\u001b[0m\u001b[1;33m)\u001b[0m \u001b[1;32mas\u001b[0m \u001b[0msr\u001b[0m\u001b[1;33m:\u001b[0m\u001b[1;33m\u001b[0m\u001b[1;33m\u001b[0m\u001b[0m\n",
      "\u001b[1;31mLookupError\u001b[0m: "
     ]
    },
    {
     "data": {
      "text/plain": [
       "Tree('S', [Tree('NP-SBJ', [Tree('NP', [Tree('NNP', ['Pierre']), Tree('NNP', ['Vinken'])]), Tree(',', [',']), Tree('ADJP', [Tree('NP', [Tree('CD', ['61']), Tree('NNS', ['years'])]), Tree('JJ', ['old'])]), Tree(',', [','])]), Tree('VP', [Tree('MD', ['will']), Tree('VP', [Tree('VB', ['join']), Tree('NP', [Tree('DT', ['the']), Tree('NN', ['board'])]), Tree('PP-CLR', [Tree('IN', ['as']), Tree('NP', [Tree('DT', ['a']), Tree('JJ', ['nonexecutive']), Tree('NN', ['director'])])]), Tree('NP-TMP', [Tree('NNP', ['Nov.']), Tree('CD', ['29'])])])]), Tree('.', ['.'])])"
      ]
     },
     "execution_count": 20,
     "metadata": {},
     "output_type": "execute_result"
    }
   ],
   "source": [
    "trees[0]"
   ]
  },
  {
   "cell_type": "code",
   "execution_count": 22,
   "metadata": {},
   "outputs": [
    {
     "name": "stdout",
     "output_type": "stream",
     "text": [
      "                                                     S                                                                         \n",
      "                         ____________________________|_______________________________________________________________________   \n",
      "                        |                                               VP                                                   | \n",
      "                        |                        _______________________|___                                                 |  \n",
      "                      NP-SBJ                    |                           VP                                               | \n",
      "         _______________|___________________    |     ______________________|______________________________________          |  \n",
      "        |          |              ADJP      |   |    |        |                PP-CLR                              |         | \n",
      "        |          |           ____|____    |   |    |        |          ________|_________                        |         |  \n",
      "        NP         |          NP        |   |   |    |        NP        |                  NP                    NP-TMP      | \n",
      "   _____|____      |     _____|____     |   |   |    |     ___|____     |    ______________|__________        _____|_____    |  \n",
      " NNP        NNP    ,    CD        NNS   JJ  ,   MD   VB   DT       NN   IN  DT             JJ         NN    NNP          CD  . \n",
      "  |          |     |    |          |    |   |   |    |    |        |    |   |              |          |      |           |   |  \n",
      "Pierre     Vinken  ,    61       years old  ,  will join the     board  as  a         nonexecutive director Nov.         29  . \n",
      "\n"
     ]
    }
   ],
   "source": [
    "trees[0].pretty_print()"
   ]
  },
  {
   "cell_type": "code",
   "execution_count": null,
   "metadata": {},
   "outputs": [],
   "source": []
  }
 ],
 "metadata": {
  "kernelspec": {
   "display_name": "Python 3",
   "language": "python",
   "name": "python3"
  },
  "language_info": {
   "codemirror_mode": {
    "name": "ipython",
    "version": 3
   },
   "file_extension": ".py",
   "mimetype": "text/x-python",
   "name": "python",
   "nbconvert_exporter": "python",
   "pygments_lexer": "ipython3",
   "version": "3.8.2"
  }
 },
 "nbformat": 4,
 "nbformat_minor": 4
}
