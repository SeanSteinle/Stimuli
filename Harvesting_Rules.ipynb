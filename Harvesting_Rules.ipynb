{
 "cells": [
  {
   "cell_type": "code",
   "execution_count": 1,
   "metadata": {},
   "outputs": [],
   "source": [
    "import nltk\n",
    "import pickle\n",
    "import pandas as pd\n",
    "from IPython.core.interactiveshell import InteractiveShell\n",
    "InteractiveShell.ast_node_interactivity = \"all\""
   ]
  },
  {
   "cell_type": "code",
   "execution_count": 7,
   "metadata": {},
   "outputs": [
    {
     "name": "stdout",
     "output_type": "stream",
     "text": [
      "Wall time: 4.53 s\n"
     ]
    },
    {
     "data": {
      "text/plain": [
       "3914"
      ]
     },
     "execution_count": 7,
     "metadata": {},
     "output_type": "execute_result"
    },
    {
     "name": "stdout",
     "output_type": "stream",
     "text": [
      "(S\n",
      "  (NP-SBJ\n",
      "    (NP (NNP Pierre) (NNP Vinken))\n",
      "    (, ,)\n",
      "    (ADJP (NP (CD 61) (NNS years)) (JJ old))\n",
      "    (, ,))\n",
      "  (VP\n",
      "    (MD will)\n",
      "    (VP\n",
      "      (VB join)\n",
      "      (NP (DT the) (NN board))\n",
      "      (PP-CLR (IN as) (NP (DT a) (JJ nonexecutive) (NN director)))\n",
      "      (NP-TMP (NNP Nov.) (CD 29))))\n",
      "  (. .))\n"
     ]
    }
   ],
   "source": [
    "pTrees = nltk.corpus.treebank.parsed_sents()\n",
    "%time len(pTrees) #hm... so counting through all of the trees takes about 5 seconds, but this isn't even touching any part of the tree.\n",
    "print(pTrees[0])"
   ]
  },
  {
   "cell_type": "code",
   "execution_count": 11,
   "metadata": {},
   "outputs": [],
   "source": [
    "pTreeProductions = []\n",
    "for tree in pTrees:\n",
    "    pTreeProductions.append(tree.productions())"
   ]
  },
  {
   "cell_type": "code",
   "execution_count": 13,
   "metadata": {},
   "outputs": [
    {
     "data": {
      "text/plain": [
       "3914"
      ]
     },
     "execution_count": 13,
     "metadata": {},
     "output_type": "execute_result"
    },
    {
     "data": {
      "text/plain": [
       "[S -> NP-SBJ VP .,\n",
       " NP-SBJ -> NP , ADJP ,,\n",
       " NP -> NNP NNP,\n",
       " NNP -> 'Pierre',\n",
       " NNP -> 'Vinken',\n",
       " , -> ',',\n",
       " ADJP -> NP JJ,\n",
       " NP -> CD NNS,\n",
       " CD -> '61',\n",
       " NNS -> 'years',\n",
       " JJ -> 'old',\n",
       " , -> ',',\n",
       " VP -> MD VP,\n",
       " MD -> 'will',\n",
       " VP -> VB NP PP-CLR NP-TMP,\n",
       " VB -> 'join',\n",
       " NP -> DT NN,\n",
       " DT -> 'the',\n",
       " NN -> 'board',\n",
       " PP-CLR -> IN NP,\n",
       " IN -> 'as',\n",
       " NP -> DT JJ NN,\n",
       " DT -> 'a',\n",
       " JJ -> 'nonexecutive',\n",
       " NN -> 'director',\n",
       " NP-TMP -> NNP CD,\n",
       " NNP -> 'Nov.',\n",
       " CD -> '29',\n",
       " . -> '.']"
      ]
     },
     "execution_count": 13,
     "metadata": {},
     "output_type": "execute_result"
    }
   ],
   "source": [
    "len(pTreeProductions)\n",
    "pTreeProductions[0]"
   ]
  },
  {
   "cell_type": "code",
   "execution_count": 39,
   "metadata": {},
   "outputs": [],
   "source": [
    "def getAllInstances(wordType):\n",
    "    instances = []\n",
    "    for tree in pTreeProductions:\n",
    "        for rule in tree:\n",
    "            text = str(rule)\n",
    "            left, right = text.split(\" -> \")\n",
    "            #print(\"Left, Rule:\")\n",
    "            #print(left)\n",
    "            #print(rule)\n",
    "            #print()\n",
    "            if(left == wordType):\n",
    "                instances.append(rule)\n",
    "    return instances"
   ]
  },
  {
   "cell_type": "code",
   "execution_count": 42,
   "metadata": {},
   "outputs": [
    {
     "data": {
      "text/plain": [
       "5834"
      ]
     },
     "execution_count": 42,
     "metadata": {},
     "output_type": "execute_result"
    }
   ],
   "source": [
    "adjs = getAllInstances('JJ')\n",
    "len(adjs)"
   ]
  }
 ],
 "metadata": {
  "kernelspec": {
   "display_name": "Python 3",
   "language": "python",
   "name": "python3"
  },
  "language_info": {
   "codemirror_mode": {
    "name": "ipython",
    "version": 3
   },
   "file_extension": ".py",
   "mimetype": "text/x-python",
   "name": "python",
   "nbconvert_exporter": "python",
   "pygments_lexer": "ipython3",
   "version": "3.7.4"
  }
 },
 "nbformat": 4,
 "nbformat_minor": 2
}
