{
 "cells": [
  {
   "cell_type": "code",
   "execution_count": 1,
   "metadata": {},
   "outputs": [],
   "source": [
    "import nltk\n",
    "import pickle\n",
    "import pandas as pd\n",
    "from IPython.core.interactiveshell import InteractiveShell\n",
    "InteractiveShell.ast_node_interactivity = \"all\""
   ]
  },
  {
   "cell_type": "code",
   "execution_count": 2,
   "metadata": {},
   "outputs": [
    {
     "name": "stdout",
     "output_type": "stream",
     "text": [
      "Wall time: 4.63 s\n"
     ]
    },
    {
     "data": {
      "text/plain": [
       "3914"
      ]
     },
     "execution_count": 2,
     "metadata": {},
     "output_type": "execute_result"
    },
    {
     "name": "stdout",
     "output_type": "stream",
     "text": [
      "(S\n",
      "  (NP-SBJ\n",
      "    (NP (NNP Pierre) (NNP Vinken))\n",
      "    (, ,)\n",
      "    (ADJP (NP (CD 61) (NNS years)) (JJ old))\n",
      "    (, ,))\n",
      "  (VP\n",
      "    (MD will)\n",
      "    (VP\n",
      "      (VB join)\n",
      "      (NP (DT the) (NN board))\n",
      "      (PP-CLR (IN as) (NP (DT a) (JJ nonexecutive) (NN director)))\n",
      "      (NP-TMP (NNP Nov.) (CD 29))))\n",
      "  (. .))\n"
     ]
    }
   ],
   "source": [
    "pTrees = nltk.corpus.treebank.parsed_sents()\n",
    "%time len(pTrees) #hm... so counting through all of the trees takes about 5 seconds, but this isn't even touching any part of the tree.\n",
    "print(pTrees[0])"
   ]
  },
  {
   "cell_type": "code",
   "execution_count": 3,
   "metadata": {},
   "outputs": [],
   "source": [
    "pTreeProductions = []\n",
    "for tree in pTrees:\n",
    "    pTreeProductions.append(tree.productions())"
   ]
  },
  {
   "cell_type": "code",
   "execution_count": 4,
   "metadata": {},
   "outputs": [
    {
     "data": {
      "text/plain": [
       "3914"
      ]
     },
     "execution_count": 4,
     "metadata": {},
     "output_type": "execute_result"
    },
    {
     "data": {
      "text/plain": [
       "[S -> NP-SBJ VP .,\n",
       " NP-SBJ -> NP , ADJP ,,\n",
       " NP -> NNP NNP,\n",
       " NNP -> 'Pierre',\n",
       " NNP -> 'Vinken',\n",
       " , -> ',',\n",
       " ADJP -> NP JJ,\n",
       " NP -> CD NNS,\n",
       " CD -> '61',\n",
       " NNS -> 'years',\n",
       " JJ -> 'old',\n",
       " , -> ',',\n",
       " VP -> MD VP,\n",
       " MD -> 'will',\n",
       " VP -> VB NP PP-CLR NP-TMP,\n",
       " VB -> 'join',\n",
       " NP -> DT NN,\n",
       " DT -> 'the',\n",
       " NN -> 'board',\n",
       " PP-CLR -> IN NP,\n",
       " IN -> 'as',\n",
       " NP -> DT JJ NN,\n",
       " DT -> 'a',\n",
       " JJ -> 'nonexecutive',\n",
       " NN -> 'director',\n",
       " NP-TMP -> NNP CD,\n",
       " NNP -> 'Nov.',\n",
       " CD -> '29',\n",
       " . -> '.']"
      ]
     },
     "execution_count": 4,
     "metadata": {},
     "output_type": "execute_result"
    }
   ],
   "source": [
    "len(pTreeProductions)\n",
    "pTreeProductions[0]"
   ]
  },
  {
   "cell_type": "code",
   "execution_count": 5,
   "metadata": {},
   "outputs": [],
   "source": [
    "def getAllInstances(wordType):\n",
    "    instances = []\n",
    "    for tree in pTreeProductions:\n",
    "        for rule in tree:\n",
    "            text = str(rule)\n",
    "            left, right = text.split(\" -> \")\n",
    "            #print(\"Left, Rule:\")\n",
    "            #print(left)\n",
    "            #print(rule)\n",
    "            #print()\n",
    "            if(left == wordType):\n",
    "                instances.append(rule)\n",
    "    return instances"
   ]
  },
  {
   "cell_type": "code",
   "execution_count": 6,
   "metadata": {},
   "outputs": [
    {
     "data": {
      "text/plain": [
       "5834"
      ]
     },
     "execution_count": 6,
     "metadata": {},
     "output_type": "execute_result"
    }
   ],
   "source": [
    "adjs = getAllInstances('JJ')\n",
    "len(adjs)"
   ]
  },
  {
   "cell_type": "code",
   "execution_count": 19,
   "metadata": {},
   "outputs": [],
   "source": [
    "file = open('cats.pkl','rb') \n",
    "cats = pickle.load(file)"
   ]
  },
  {
   "cell_type": "code",
   "execution_count": 20,
   "metadata": {},
   "outputs": [
    {
     "name": "stdout",
     "output_type": "stream",
     "text": [
      "NN\n"
     ]
    }
   ],
   "source": [
    "for cat in cats:\n",
    "    if(cat == 'NN'):\n",
    "        print(cat)"
   ]
  },
  {
   "cell_type": "code",
   "execution_count": 98,
   "metadata": {},
   "outputs": [
    {
     "name": "stdout",
     "output_type": "stream",
     "text": [
      "Loading all instances of:  ,\n",
      "Wall time: 959 ms\n",
      "Loading all instances of:  ROOT\n",
      "Wall time: 1.16 s\n",
      "Loading all instances of:  NP-TMP\n",
      "Wall time: 1.05 s\n",
      "Loading all instances of:  QP\n",
      "Wall time: 1.05 s\n",
      "Loading all instances of:  PRT\n",
      "Wall time: 977 ms\n",
      "Loading all instances of:  WP\n",
      "Wall time: 1.06 s\n",
      "Loading all instances of:  PRP$\n",
      "Wall time: 980 ms\n",
      "Loading all instances of:  WHNP\n",
      "Wall time: 956 ms\n",
      "Loading all instances of:  PP\n",
      "Wall time: 1.01 s\n",
      "Loading all instances of:  WRB\n",
      "Wall time: 1e+03 ms\n",
      "Loading all instances of:  FRAG\n",
      "Wall time: 1.03 s\n",
      "Loading all instances of:  DT\n",
      "Wall time: 1.34 s\n",
      "Loading all instances of:  JJS\n",
      "Wall time: 1.06 s\n",
      "Loading all instances of:  MD\n",
      "Wall time: 1.07 s\n",
      "Loading all instances of:  VBZ\n",
      "Wall time: 977 ms\n",
      "Loading all instances of:  CC\n",
      "Wall time: 1.05 s\n",
      "Loading all instances of:  EX\n",
      "Wall time: 985 ms\n",
      "Loading all instances of:  RBS\n",
      "Wall time: 991 ms\n",
      "Loading all instances of:  NN\n",
      "Wall time: 1 s\n",
      "Loading all instances of:  S\n",
      "Wall time: 995 ms\n",
      "Loading all instances of:  RBR\n",
      "Wall time: 1.02 s\n",
      "Loading all instances of:  NP\n",
      "Wall time: 1.15 s\n",
      "Loading all instances of:  NNPS\n",
      "Wall time: 1.03 s\n",
      "Loading all instances of:  VB\n",
      "Wall time: 1.17 s\n",
      "Loading all instances of:  VBG\n",
      "Wall time: 1.19 s\n",
      "Loading all instances of:  IN\n",
      "Wall time: 1.14 s\n",
      "Loading all instances of:  TO\n",
      "Wall time: 1.22 s\n",
      "Loading all instances of:  ADVP\n",
      "Wall time: 1 s\n",
      "Loading all instances of:  RB\n",
      "Wall time: 963 ms\n",
      "Loading all instances of:  SINV\n",
      "Wall time: 1.01 s\n",
      "Loading all instances of:  UCP\n",
      "Wall time: 932 ms\n",
      "Loading all instances of:  VP\n",
      "Wall time: 984 ms\n",
      "Loading all instances of:  SBAR\n",
      "Wall time: 1.07 s\n",
      "Loading all instances of:  VBP\n",
      "Wall time: 1.05 s\n",
      "Loading all instances of:  VBD\n",
      "Wall time: 1.11 s\n",
      "Loading all instances of:  PDT\n",
      "Wall time: 1.05 s\n",
      "Loading all instances of:  VBN\n",
      "Wall time: 1.14 s\n",
      "Loading all instances of:  NNP\n",
      "Wall time: 1.19 s\n",
      "Loading all instances of:  WDT\n",
      "Wall time: 1.06 s\n",
      "Loading all instances of:  WHADVP\n",
      "Wall time: 1.04 s\n",
      "Loading all instances of:  CD\n",
      "Wall time: 1.27 s\n",
      "Loading all instances of:  JJ\n",
      "Wall time: 1.26 s\n",
      "Loading all instances of:  ADJP\n",
      "Wall time: 1.03 s\n",
      "Loading all instances of:  NNS\n",
      "Wall time: 1.05 s\n",
      "Loading all instances of:  PRP\n",
      "Wall time: 1.03 s\n",
      "Loading all instances of:  RP\n",
      "Wall time: 1.04 s\n",
      "Loading all instances of:  .\n",
      "Wall time: 979 ms\n",
      "Loading all instances of:  JJR\n",
      "Wall time: 1.03 s\n"
     ]
    }
   ],
   "source": [
    "cat_lists = [] #list of lists\n",
    "for cat in cats:\n",
    "    print(\"Loading all instances of: \", cat)\n",
    "    %time cat_lists.append(getAllInstances(cat))"
   ]
  },
  {
   "cell_type": "code",
   "execution_count": null,
   "metadata": {},
   "outputs": [],
   "source": []
  },
  {
   "cell_type": "code",
   "execution_count": 96,
   "metadata": {},
   "outputs": [],
   "source": [
    "def getWordProb(word, cat): #this traverses outer list\n",
    "    count = 0\n",
    "    for c in cat_lists:\n",
    "        #print(cat_lists[count][0])\n",
    "        text = str(cat_lists[count][0])\n",
    "        if(cat == text.split(\" -> \")[0]):\n",
    "            prob = doMath(word, cat_lists[c])\n",
    "        count+=1\n",
    "    return prob\n",
    "\n",
    "def doMath(word, productions): #given inner list, counts them\n",
    "    hits = 0\n",
    "    total = 0\n",
    "    for rule in productions:\n",
    "        text = str(rule)\n",
    "        left, right = text.split(' -> ')\n",
    "        if(word in right): #does this need revision? doing this to avoid '' nonsense\n",
    "            hit+=1\n",
    "        count+=1\n",
    "    return hits/total"
   ]
  },
  {
   "cell_type": "code",
   "execution_count": 97,
   "metadata": {},
   "outputs": [
    {
     "ename": "TypeError",
     "evalue": "list indices must be integers or slices, not list",
     "output_type": "error",
     "traceback": [
      "\u001b[1;31m---------------------------------------------------------------------------\u001b[0m",
      "\u001b[1;31mTypeError\u001b[0m                                 Traceback (most recent call last)",
      "\u001b[1;32m<ipython-input-97-639342a3ed99>\u001b[0m in \u001b[0;36m<module>\u001b[1;34m\u001b[0m\n\u001b[1;32m----> 1\u001b[1;33m \u001b[0mgetWordProb\u001b[0m\u001b[1;33m(\u001b[0m\u001b[1;34m'the'\u001b[0m\u001b[1;33m,\u001b[0m \u001b[1;34m'DT'\u001b[0m\u001b[1;33m)\u001b[0m\u001b[1;33m\u001b[0m\u001b[1;33m\u001b[0m\u001b[0m\n\u001b[0m",
      "\u001b[1;32m<ipython-input-96-71b07ecce4ab>\u001b[0m in \u001b[0;36mgetWordProb\u001b[1;34m(word, cat)\u001b[0m\n\u001b[0;32m      5\u001b[0m         \u001b[0mtext\u001b[0m \u001b[1;33m=\u001b[0m \u001b[0mstr\u001b[0m\u001b[1;33m(\u001b[0m\u001b[0mcat_lists\u001b[0m\u001b[1;33m[\u001b[0m\u001b[0mcount\u001b[0m\u001b[1;33m]\u001b[0m\u001b[1;33m[\u001b[0m\u001b[1;36m0\u001b[0m\u001b[1;33m]\u001b[0m\u001b[1;33m)\u001b[0m\u001b[1;33m\u001b[0m\u001b[1;33m\u001b[0m\u001b[0m\n\u001b[0;32m      6\u001b[0m         \u001b[1;32mif\u001b[0m\u001b[1;33m(\u001b[0m\u001b[0mcat\u001b[0m \u001b[1;33m==\u001b[0m \u001b[0mtext\u001b[0m\u001b[1;33m.\u001b[0m\u001b[0msplit\u001b[0m\u001b[1;33m(\u001b[0m\u001b[1;34m\" -> \"\u001b[0m\u001b[1;33m)\u001b[0m\u001b[1;33m[\u001b[0m\u001b[1;36m0\u001b[0m\u001b[1;33m]\u001b[0m\u001b[1;33m)\u001b[0m\u001b[1;33m:\u001b[0m\u001b[1;33m\u001b[0m\u001b[1;33m\u001b[0m\u001b[0m\n\u001b[1;32m----> 7\u001b[1;33m             \u001b[0mprob\u001b[0m \u001b[1;33m=\u001b[0m \u001b[0mdoMath\u001b[0m\u001b[1;33m(\u001b[0m\u001b[0mword\u001b[0m\u001b[1;33m,\u001b[0m \u001b[0mcat_lists\u001b[0m\u001b[1;33m[\u001b[0m\u001b[0mc\u001b[0m\u001b[1;33m]\u001b[0m\u001b[1;33m)\u001b[0m\u001b[1;33m\u001b[0m\u001b[1;33m\u001b[0m\u001b[0m\n\u001b[0m\u001b[0;32m      8\u001b[0m         \u001b[0mcount\u001b[0m\u001b[1;33m+=\u001b[0m\u001b[1;36m1\u001b[0m\u001b[1;33m\u001b[0m\u001b[1;33m\u001b[0m\u001b[0m\n\u001b[0;32m      9\u001b[0m     \u001b[1;32mreturn\u001b[0m \u001b[0mprob\u001b[0m\u001b[1;33m\u001b[0m\u001b[1;33m\u001b[0m\u001b[0m\n",
      "\u001b[1;31mTypeError\u001b[0m: list indices must be integers or slices, not list"
     ]
    }
   ],
   "source": [
    "getWordProb('the', 'DT')"
   ]
  },
  {
   "cell_type": "code",
   "execution_count": null,
   "metadata": {},
   "outputs": [],
   "source": []
  },
  {
   "cell_type": "code",
   "execution_count": null,
   "metadata": {},
   "outputs": [],
   "source": []
  }
 ],
 "metadata": {
  "kernelspec": {
   "display_name": "Python 3",
   "language": "python",
   "name": "python3"
  },
  "language_info": {
   "codemirror_mode": {
    "name": "ipython",
    "version": 3
   },
   "file_extension": ".py",
   "mimetype": "text/x-python",
   "name": "python",
   "nbconvert_exporter": "python",
   "pygments_lexer": "ipython3",
   "version": "3.7.4"
  }
 },
 "nbformat": 4,
 "nbformat_minor": 2
}
