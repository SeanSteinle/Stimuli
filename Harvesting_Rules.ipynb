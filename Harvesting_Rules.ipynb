{
 "cells": [
  {
   "cell_type": "code",
   "execution_count": 1,
   "metadata": {},
   "outputs": [],
   "source": [
    "import nltk\n",
    "import pickle\n",
    "import pandas as pd\n",
    "from IPython.core.interactiveshell import InteractiveShell\n",
    "InteractiveShell.ast_node_interactivity = \"all\""
   ]
  },
  {
   "cell_type": "code",
   "execution_count": 2,
   "metadata": {
    "scrolled": true
   },
   "outputs": [
    {
     "name": "stdout",
     "output_type": "stream",
     "text": [
      "Wall time: 4.63 s\n"
     ]
    },
    {
     "data": {
      "text/plain": [
       "3914"
      ]
     },
     "execution_count": 2,
     "metadata": {},
     "output_type": "execute_result"
    },
    {
     "name": "stdout",
     "output_type": "stream",
     "text": [
      "(S\n",
      "  (NP-SBJ\n",
      "    (NP (NNP Pierre) (NNP Vinken))\n",
      "    (, ,)\n",
      "    (ADJP (NP (CD 61) (NNS years)) (JJ old))\n",
      "    (, ,))\n",
      "  (VP\n",
      "    (MD will)\n",
      "    (VP\n",
      "      (VB join)\n",
      "      (NP (DT the) (NN board))\n",
      "      (PP-CLR (IN as) (NP (DT a) (JJ nonexecutive) (NN director)))\n",
      "      (NP-TMP (NNP Nov.) (CD 29))))\n",
      "  (. .))\n"
     ]
    }
   ],
   "source": [
    "pTrees = nltk.corpus.treebank.parsed_sents()\n",
    "%time len(pTrees) #hm... so counting through all of the trees takes about 5 seconds, but this isn't even touching any part of the tree.\n",
    "print(pTrees[0])"
   ]
  },
  {
   "cell_type": "code",
   "execution_count": 3,
   "metadata": {},
   "outputs": [],
   "source": [
    "pTreeProductions = []\n",
    "for tree in pTrees:\n",
    "    pTreeProductions.append(tree.productions())"
   ]
  },
  {
   "cell_type": "code",
   "execution_count": 4,
   "metadata": {},
   "outputs": [
    {
     "data": {
      "text/plain": [
       "3914"
      ]
     },
     "execution_count": 4,
     "metadata": {},
     "output_type": "execute_result"
    },
    {
     "data": {
      "text/plain": [
       "[S -> NP-SBJ VP .,\n",
       " NP-SBJ -> NP , ADJP ,,\n",
       " NP -> NNP NNP,\n",
       " NNP -> 'Pierre',\n",
       " NNP -> 'Vinken',\n",
       " , -> ',',\n",
       " ADJP -> NP JJ,\n",
       " NP -> CD NNS,\n",
       " CD -> '61',\n",
       " NNS -> 'years',\n",
       " JJ -> 'old',\n",
       " , -> ',',\n",
       " VP -> MD VP,\n",
       " MD -> 'will',\n",
       " VP -> VB NP PP-CLR NP-TMP,\n",
       " VB -> 'join',\n",
       " NP -> DT NN,\n",
       " DT -> 'the',\n",
       " NN -> 'board',\n",
       " PP-CLR -> IN NP,\n",
       " IN -> 'as',\n",
       " NP -> DT JJ NN,\n",
       " DT -> 'a',\n",
       " JJ -> 'nonexecutive',\n",
       " NN -> 'director',\n",
       " NP-TMP -> NNP CD,\n",
       " NNP -> 'Nov.',\n",
       " CD -> '29',\n",
       " . -> '.']"
      ]
     },
     "execution_count": 4,
     "metadata": {},
     "output_type": "execute_result"
    }
   ],
   "source": [
    "len(pTreeProductions)\n",
    "pTreeProductions[0]"
   ]
  },
  {
   "cell_type": "code",
   "execution_count": 5,
   "metadata": {},
   "outputs": [],
   "source": [
    "def getAllInstances(wordType):\n",
    "    instances = []\n",
    "    for tree in pTreeProductions:\n",
    "        for rule in tree:\n",
    "            text = str(rule)\n",
    "            left, right = text.split(\" -> \")\n",
    "            #print(\"Left, Rule:\")\n",
    "            #print(left)\n",
    "            #print(rule)\n",
    "            #print()\n",
    "            if(left == wordType):\n",
    "                instances.append(rule)\n",
    "    return instances"
   ]
  },
  {
   "cell_type": "code",
   "execution_count": 6,
   "metadata": {},
   "outputs": [
    {
     "data": {
      "text/plain": [
       "5834"
      ]
     },
     "execution_count": 6,
     "metadata": {},
     "output_type": "execute_result"
    }
   ],
   "source": [
    "adjs = getAllInstances('JJ')\n",
    "len(adjs)"
   ]
  },
  {
   "cell_type": "code",
   "execution_count": 125,
   "metadata": {},
   "outputs": [],
   "source": [
    "file = open('cats.pkl','rb') \n",
    "cats = pickle.load(file)"
   ]
  },
  {
   "cell_type": "code",
   "execution_count": 126,
   "metadata": {},
   "outputs": [
    {
     "name": "stdout",
     "output_type": "stream",
     "text": [
      "NN\n"
     ]
    }
   ],
   "source": [
    "for cat in cats:\n",
    "    if(cat == 'NN'):\n",
    "        print(cat)"
   ]
  },
  {
   "cell_type": "code",
   "execution_count": 129,
   "metadata": {},
   "outputs": [
    {
     "data": {
      "text/plain": [
       "list"
      ]
     },
     "execution_count": 129,
     "metadata": {},
     "output_type": "execute_result"
    }
   ],
   "source": [
    "cats = list(cats)\n",
    "type(cats)"
   ]
  },
  {
   "cell_type": "code",
   "execution_count": 131,
   "metadata": {},
   "outputs": [
    {
     "name": "stdout",
     "output_type": "stream",
     "text": [
      "Loading all instances of:  ,\n",
      "Wall time: 550 ms\n",
      "Loading all instances of:  .\n",
      "Wall time: 598 ms\n",
      "Loading all instances of:  ADJP\n",
      "Wall time: 569 ms\n",
      "Loading all instances of:  ADVP\n",
      "Wall time: 539 ms\n",
      "Loading all instances of:  CC\n",
      "Wall time: 619 ms\n",
      "Loading all instances of:  CD\n",
      "Wall time: 614 ms\n",
      "Loading all instances of:  DT\n",
      "Wall time: 629 ms\n",
      "Loading all instances of:  EX\n",
      "Wall time: 559 ms\n",
      "Loading all instances of:  FRAG\n",
      "Wall time: 679 ms\n",
      "Loading all instances of:  IN\n",
      "Wall time: 569 ms\n",
      "Loading all instances of:  JJ\n",
      "Wall time: 547 ms\n",
      "Loading all instances of:  JJR\n",
      "Wall time: 545 ms\n",
      "Loading all instances of:  JJS\n",
      "Wall time: 655 ms\n",
      "Loading all instances of:  MD\n",
      "Wall time: 592 ms\n",
      "Loading all instances of:  NN\n",
      "Wall time: 731 ms\n",
      "Loading all instances of:  NNP\n",
      "Wall time: 623 ms\n",
      "Loading all instances of:  NNPS\n",
      "Wall time: 783 ms\n",
      "Loading all instances of:  NNS\n",
      "Wall time: 639 ms\n",
      "Loading all instances of:  NP\n",
      "Wall time: 532 ms\n",
      "Loading all instances of:  NP-TMP\n",
      "Wall time: 538 ms\n",
      "Loading all instances of:  PDT\n",
      "Wall time: 577 ms\n",
      "Loading all instances of:  PP\n",
      "Wall time: 533 ms\n",
      "Loading all instances of:  PRP\n",
      "Wall time: 543 ms\n",
      "Loading all instances of:  PRP$\n",
      "Wall time: 607 ms\n",
      "Loading all instances of:  PRT\n",
      "Wall time: 534 ms\n",
      "Loading all instances of:  QP\n",
      "Wall time: 620 ms\n",
      "Loading all instances of:  RB\n",
      "Wall time: 600 ms\n",
      "Loading all instances of:  RBR\n",
      "Wall time: 645 ms\n",
      "Loading all instances of:  RBS\n",
      "Wall time: 524 ms\n",
      "Loading all instances of:  ROOT\n",
      "Wall time: 520 ms\n",
      "Loading all instances of:  RP\n",
      "Wall time: 621 ms\n",
      "Loading all instances of:  S\n",
      "Wall time: 724 ms\n",
      "Loading all instances of:  SBAR\n",
      "Wall time: 580 ms\n",
      "Loading all instances of:  SINV\n",
      "Wall time: 541 ms\n",
      "Loading all instances of:  TO\n",
      "Wall time: 564 ms\n",
      "Loading all instances of:  UCP\n",
      "Wall time: 530 ms\n",
      "Loading all instances of:  VB\n",
      "Wall time: 589 ms\n",
      "Loading all instances of:  VBD\n",
      "Wall time: 559 ms\n",
      "Loading all instances of:  VBG\n",
      "Wall time: 567 ms\n",
      "Loading all instances of:  VBN\n",
      "Wall time: 604 ms\n",
      "Loading all instances of:  VBP\n",
      "Wall time: 574 ms\n",
      "Loading all instances of:  VBZ\n",
      "Wall time: 527 ms\n",
      "Loading all instances of:  VP\n",
      "Wall time: 537 ms\n",
      "Loading all instances of:  WDT\n",
      "Wall time: 554 ms\n",
      "Loading all instances of:  WHADVP\n",
      "Wall time: 588 ms\n",
      "Loading all instances of:  WHNP\n",
      "Wall time: 621 ms\n",
      "Loading all instances of:  WP\n",
      "Wall time: 539 ms\n",
      "Loading all instances of:  WRB\n",
      "Wall time: 531 ms\n"
     ]
    }
   ],
   "source": [
    "cat_lists = [] #list of lists\n",
    "for cat in sorted(cats):\n",
    "    print(\"Loading all instances of: \", cat)\n",
    "    %time cat_lists.append(getAllInstances(cat))"
   ]
  },
  {
   "cell_type": "code",
   "execution_count": 250,
   "metadata": {},
   "outputs": [],
   "source": [
    "def getWordProb(cat, word): #this traverses outer list\n",
    "    count = 0\n",
    "    for c in cat_lists:\n",
    "        #print(cat_lists[count][0])\n",
    "        try:\n",
    "            text = str(cat_lists[count][0])\n",
    "        except:\n",
    "            continue\n",
    "        if(cat == text.split(\" -> \")[0]):\n",
    "            prob = doMath(word, cat_lists[count])\n",
    "        count+=1\n",
    "    return prob\n",
    "\n",
    "def doMath(word, productions): #given inner list, counts them\n",
    "    hits = 0\n",
    "    total = 0\n",
    "    for rule in productions:\n",
    "        text = str(rule)\n",
    "        left, right = text.split(' -> ')\n",
    "        #print(word, right[1:-1].lower()) #[1:-1] gets rid of the apostrophes here, .lower() is optional but recommended\n",
    "        if(word == right[1:-1].lower()): #does this need revision? doing this to avoid '' nonsense\n",
    "            hits+=1\n",
    "            #print(word)\n",
    "        total+=1\n",
    "    prob = float(hits)/float(total)\n",
    "    print(prob)\n",
    "    return prob"
   ]
  },
  {
   "cell_type": "code",
   "execution_count": 251,
   "metadata": {},
   "outputs": [
    {
     "name": "stdout",
     "output_type": "stream",
     "text": [
      "0.0\n"
     ]
    },
    {
     "data": {
      "text/plain": [
       "0.0"
      ]
     },
     "execution_count": 251,
     "metadata": {},
     "output_type": "execute_result"
    }
   ],
   "source": [
    "getWordProb('NP', 'NN NNS')"
   ]
  },
  {
   "cell_type": "code",
   "execution_count": null,
   "metadata": {},
   "outputs": [],
   "source": []
  }
 ],
 "metadata": {
  "kernelspec": {
   "display_name": "Python 3",
   "language": "python",
   "name": "python3"
  },
  "language_info": {
   "codemirror_mode": {
    "name": "ipython",
    "version": 3
   },
   "file_extension": ".py",
   "mimetype": "text/x-python",
   "name": "python",
   "nbconvert_exporter": "python",
   "pygments_lexer": "ipython3",
   "version": "3.7.4"
  }
 },
 "nbformat": 4,
 "nbformat_minor": 2
}
