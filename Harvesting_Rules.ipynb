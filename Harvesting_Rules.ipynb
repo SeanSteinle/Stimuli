{
 "cells": [
  {
   "cell_type": "code",
   "execution_count": 1,
   "metadata": {},
   "outputs": [],
   "source": [
    "import nltk\n",
    "import pickle\n",
    "import pandas as pd\n",
    "from IPython.core.interactiveshell import InteractiveShell\n",
    "InteractiveShell.ast_node_interactivity = \"all\""
   ]
  },
  {
   "cell_type": "code",
   "execution_count": 15,
   "metadata": {
    "scrolled": true
   },
   "outputs": [
    {
     "name": "stdout",
     "output_type": "stream",
     "text": [
      "Wall time: 2.57 s\n"
     ]
    },
    {
     "data": {
      "text/plain": [
       "3914"
      ]
     },
     "execution_count": 15,
     "metadata": {},
     "output_type": "execute_result"
    },
    {
     "name": "stdout",
     "output_type": "stream",
     "text": [
      "                                                     S                                                                         \n",
      "                         ____________________________|_______________________________________________________________________   \n",
      "                        |                                               VP                                                   | \n",
      "                        |                        _______________________|___                                                 |  \n",
      "                      NP-SBJ                    |                           VP                                               | \n",
      "         _______________|___________________    |     ______________________|______________________________________          |  \n",
      "        |          |              ADJP      |   |    |        |                PP-CLR                              |         | \n",
      "        |          |           ____|____    |   |    |        |          ________|_________                        |         |  \n",
      "        NP         |          NP        |   |   |    |        NP        |                  NP                    NP-TMP      | \n",
      "   _____|____      |     _____|____     |   |   |    |     ___|____     |    ______________|__________        _____|_____    |  \n",
      " NNP        NNP    ,    CD        NNS   JJ  ,   MD   VB   DT       NN   IN  DT             JJ         NN    NNP          CD  . \n",
      "  |          |     |    |          |    |   |   |    |    |        |    |   |              |          |      |           |   |  \n",
      "Pierre     Vinken  ,    61       years old  ,  will join the     board  as  a         nonexecutive director Nov.         29  . \n",
      "\n"
     ]
    }
   ],
   "source": [
    "pTrees = nltk.corpus.treebank.parsed_sents()\n",
    "%time len(pTrees) #hm... so counting through all of the trees takes about 5 seconds, but this isn't even touching any part of the tree.\n",
    "pTrees[0].pretty_print()"
   ]
  },
  {
   "cell_type": "code",
   "execution_count": 3,
   "metadata": {},
   "outputs": [],
   "source": [
    "pTreeProductions = []\n",
    "for tree in pTrees:\n",
    "    pTreeProductions.append(tree.productions())"
   ]
  },
  {
   "cell_type": "code",
   "execution_count": 17,
   "metadata": {},
   "outputs": [
    {
     "data": {
      "text/plain": [
       "3914"
      ]
     },
     "execution_count": 17,
     "metadata": {},
     "output_type": "execute_result"
    },
    {
     "data": {
      "text/plain": [
       "[S -> NP-SBJ VP .,\n",
       " NP-SBJ -> NP , ADJP ,,\n",
       " NP -> NNP NNP,\n",
       " NNP -> 'Pierre',\n",
       " NNP -> 'Vinken',\n",
       " , -> ',',\n",
       " ADJP -> NP JJ,\n",
       " NP -> CD NNS,\n",
       " CD -> '61',\n",
       " NNS -> 'years',\n",
       " JJ -> 'old',\n",
       " , -> ',',\n",
       " VP -> MD VP,\n",
       " MD -> 'will',\n",
       " VP -> VB NP PP-CLR NP-TMP,\n",
       " VB -> 'join',\n",
       " NP -> DT NN,\n",
       " DT -> 'the',\n",
       " NN -> 'board',\n",
       " PP-CLR -> IN NP,\n",
       " IN -> 'as',\n",
       " NP -> DT JJ NN,\n",
       " DT -> 'a',\n",
       " JJ -> 'nonexecutive',\n",
       " NN -> 'director',\n",
       " NP-TMP -> NNP CD,\n",
       " NNP -> 'Nov.',\n",
       " CD -> '29',\n",
       " . -> '.']"
      ]
     },
     "execution_count": 17,
     "metadata": {},
     "output_type": "execute_result"
    }
   ],
   "source": [
    "len(pTreeProductions)\n",
    "pTreeProductions[0]"
   ]
  },
  {
   "cell_type": "code",
   "execution_count": 5,
   "metadata": {},
   "outputs": [],
   "source": [
    "def getAllInstances(wordType):\n",
    "    instances = []\n",
    "    for tree in pTreeProductions:\n",
    "        for rule in tree:\n",
    "            text = str(rule)\n",
    "            left, right = text.split(\" -> \")\n",
    "            #print(\"Left, Rule:\")\n",
    "            #print(left)\n",
    "            #print(rule)\n",
    "            #print()\n",
    "            if(left == wordType):\n",
    "                instances.append(rule)\n",
    "    return instances"
   ]
  },
  {
   "cell_type": "code",
   "execution_count": 6,
   "metadata": {},
   "outputs": [
    {
     "data": {
      "text/plain": [
       "5834"
      ]
     },
     "execution_count": 6,
     "metadata": {},
     "output_type": "execute_result"
    }
   ],
   "source": [
    "adjs = getAllInstances('JJ')\n",
    "len(adjs)"
   ]
  },
  {
   "cell_type": "code",
   "execution_count": 7,
   "metadata": {},
   "outputs": [],
   "source": [
    "file = open('cats.pkl','rb') \n",
    "cats = pickle.load(file)"
   ]
  },
  {
   "cell_type": "code",
   "execution_count": 8,
   "metadata": {},
   "outputs": [
    {
     "name": "stdout",
     "output_type": "stream",
     "text": [
      "NN\n"
     ]
    }
   ],
   "source": [
    "for cat in cats:\n",
    "    if(cat == 'NN'):\n",
    "        print(cat)"
   ]
  },
  {
   "cell_type": "code",
   "execution_count": 9,
   "metadata": {},
   "outputs": [
    {
     "data": {
      "text/plain": [
       "list"
      ]
     },
     "execution_count": 9,
     "metadata": {},
     "output_type": "execute_result"
    }
   ],
   "source": [
    "cats = list(cats)\n",
    "type(cats)"
   ]
  },
  {
   "cell_type": "code",
   "execution_count": 10,
   "metadata": {},
   "outputs": [
    {
     "name": "stdout",
     "output_type": "stream",
     "text": [
      "Loading all instances of:  ,\n",
      "Wall time: 658 ms\n",
      "Loading all instances of:  .\n",
      "Wall time: 598 ms\n",
      "Loading all instances of:  ADJP\n",
      "Wall time: 537 ms\n",
      "Loading all instances of:  ADVP\n",
      "Wall time: 554 ms\n",
      "Loading all instances of:  CC\n",
      "Wall time: 551 ms\n",
      "Loading all instances of:  CD\n",
      "Wall time: 696 ms\n",
      "Loading all instances of:  DT\n",
      "Wall time: 572 ms\n",
      "Loading all instances of:  EX\n",
      "Wall time: 561 ms\n",
      "Loading all instances of:  FRAG\n",
      "Wall time: 543 ms\n",
      "Loading all instances of:  IN\n",
      "Wall time: 654 ms\n",
      "Loading all instances of:  JJ\n",
      "Wall time: 619 ms\n",
      "Loading all instances of:  JJR\n",
      "Wall time: 536 ms\n",
      "Loading all instances of:  JJS\n",
      "Wall time: 566 ms\n",
      "Loading all instances of:  MD\n",
      "Wall time: 532 ms\n",
      "Loading all instances of:  NN\n",
      "Wall time: 642 ms\n",
      "Loading all instances of:  NNP\n",
      "Wall time: 528 ms\n",
      "Loading all instances of:  NNPS\n",
      "Wall time: 523 ms\n",
      "Loading all instances of:  NNS\n",
      "Wall time: 544 ms\n",
      "Loading all instances of:  NP\n",
      "Wall time: 519 ms\n",
      "Loading all instances of:  NP-TMP\n",
      "Wall time: 523 ms\n",
      "Loading all instances of:  PDT\n",
      "Wall time: 553 ms\n",
      "Loading all instances of:  PP\n",
      "Wall time: 541 ms\n",
      "Loading all instances of:  PRP\n",
      "Wall time: 552 ms\n",
      "Loading all instances of:  PRP$\n",
      "Wall time: 553 ms\n",
      "Loading all instances of:  PRT\n",
      "Wall time: 520 ms\n",
      "Loading all instances of:  QP\n",
      "Wall time: 528 ms\n",
      "Loading all instances of:  RB\n",
      "Wall time: 556 ms\n",
      "Loading all instances of:  RBR\n",
      "Wall time: 512 ms\n",
      "Loading all instances of:  RBS\n",
      "Wall time: 589 ms\n",
      "Loading all instances of:  ROOT\n",
      "Wall time: 541 ms\n",
      "Loading all instances of:  RP\n",
      "Wall time: 586 ms\n",
      "Loading all instances of:  S\n",
      "Wall time: 600 ms\n",
      "Loading all instances of:  SBAR\n",
      "Wall time: 560 ms\n",
      "Loading all instances of:  SINV\n",
      "Wall time: 553 ms\n",
      "Loading all instances of:  TO\n",
      "Wall time: 532 ms\n",
      "Loading all instances of:  UCP\n",
      "Wall time: 522 ms\n",
      "Loading all instances of:  VB\n",
      "Wall time: 508 ms\n",
      "Loading all instances of:  VBD\n",
      "Wall time: 530 ms\n",
      "Loading all instances of:  VBG\n",
      "Wall time: 692 ms\n",
      "Loading all instances of:  VBN\n",
      "Wall time: 599 ms\n",
      "Loading all instances of:  VBP\n",
      "Wall time: 547 ms\n",
      "Loading all instances of:  VBZ\n",
      "Wall time: 599 ms\n",
      "Loading all instances of:  VP\n",
      "Wall time: 545 ms\n",
      "Loading all instances of:  WDT\n",
      "Wall time: 508 ms\n",
      "Loading all instances of:  WHADVP\n",
      "Wall time: 547 ms\n",
      "Loading all instances of:  WHNP\n",
      "Wall time: 524 ms\n",
      "Loading all instances of:  WP\n",
      "Wall time: 562 ms\n",
      "Loading all instances of:  WRB\n",
      "Wall time: 564 ms\n"
     ]
    }
   ],
   "source": [
    "cat_lists = [] #list of lists\n",
    "for cat in sorted(cats):\n",
    "    print(\"Loading all instances of: \", cat)\n",
    "    %time cat_lists.append(getAllInstances(cat))"
   ]
  },
  {
   "cell_type": "code",
   "execution_count": 13,
   "metadata": {},
   "outputs": [
    {
     "data": {
      "text/plain": [
       "CD -> '61'"
      ]
     },
     "execution_count": 13,
     "metadata": {},
     "output_type": "execute_result"
    }
   ],
   "source": [
    "cat_lists[5][0]"
   ]
  },
  {
   "cell_type": "code",
   "execution_count": 127,
   "metadata": {},
   "outputs": [],
   "source": [
    "def getWordProb(wordType, key, isLeaf):\n",
    "    tagIndex = 0\n",
    "    for tag in cat_lists:\n",
    "        try: #needs this try/except because there's one tag that's just empty, the line below errors out.\n",
    "            raw = str(cat_lists[tagIndex][0])\n",
    "        except:\n",
    "            continue\n",
    "        if(wordType == raw.split(\" -> \")[0]): #now at this point, we're on the list of entries for the tag. count hits/total\n",
    "            hits = 0 #^ this must be true for 'hits' to initialize, if it isn't then the tag is not in the sample\n",
    "            total = 0\n",
    "            for rule in cat_lists[tagIndex]:\n",
    "                #print(rule)\n",
    "                text = str(rule)\n",
    "                left, right = text.split(\" -> \")\n",
    "                #print(left, right)\n",
    "                if(isLeaf):\n",
    "                    if(key == right[1:-1] or key == right[1:-1].lower()):\n",
    "                        hits += 1\n",
    "                else:\n",
    "                        if(key == right):\n",
    "                            hits += 1\n",
    "                total += 1\n",
    "        tagIndex += 1\n",
    "    try:\n",
    "        print(\"Hits: \", hits, \"\\nTotal: \", total)\n",
    "    except:\n",
    "        print(\"This tag was not found in the sample of the Penn Treebank.\") #FW, LS, POS, UH, RP, SYM\n",
    "        return\n",
    "    return hits/total"
   ]
  },
  {
   "cell_type": "code",
   "execution_count": 192,
   "metadata": {},
   "outputs": [
    {
     "name": "stdout",
     "output_type": "stream",
     "text": [
      "Hits:  56 \n",
      "Total:  13166\n"
     ]
    },
    {
     "data": {
      "text/plain": [
       "0.00425337991797053"
      ]
     },
     "execution_count": 192,
     "metadata": {},
     "output_type": "execute_result"
    }
   ],
   "source": [
    "getWordProb('NN', 'money', True)"
   ]
  }
 ],
 "metadata": {
  "kernelspec": {
   "display_name": "Python 3",
   "language": "python",
   "name": "python3"
  },
  "language_info": {
   "codemirror_mode": {
    "name": "ipython",
    "version": 3
   },
   "file_extension": ".py",
   "mimetype": "text/x-python",
   "name": "python",
   "nbconvert_exporter": "python",
   "pygments_lexer": "ipython3",
   "version": "3.7.4"
  }
 },
 "nbformat": 4,
 "nbformat_minor": 2
}
