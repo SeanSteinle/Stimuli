{
 "cells": [
  {
   "cell_type": "code",
   "execution_count": 1,
   "metadata": {},
   "outputs": [],
   "source": [
    "import nltk\n",
    "import pickle\n",
    "from nltk import StanfordPOSTagger"
   ]
  },
  {
   "cell_type": "code",
   "execution_count": 2,
   "metadata": {},
   "outputs": [
    {
     "name": "stdout",
     "output_type": "stream",
     "text": [
      "C:\\Users\\Brett\\Desktop\\Stanford\\stanford-postagger-full-2018-10-16\n",
      "C:\\Users\\Brett\\Desktop\\Stanford\\stanford-postagger-full-2018-10-16\\models\\english-bidirectional-distsim.tagger\n",
      "C:\\Users\\Brett\\Desktop\\Stanford\\stanford-postagger-full-2018-10-16\\stanford-postagger.jar\n"
     ]
    }
   ],
   "source": [
    "stanford_dir = r'C:\\Users\\Brett\\Desktop\\Stanford\\stanford-postagger-full-2018-10-16'\n",
    "model_file = stanford_dir + r'\\models\\english-bidirectional-distsim.tagger'\n",
    "jar_file = stanford_dir + r'\\stanford-postagger.jar'\n",
    "print(stanford_dir)\n",
    "print(model_file)\n",
    "print(jar_file)"
   ]
  },
  {
   "cell_type": "code",
   "execution_count": 3,
   "metadata": {},
   "outputs": [],
   "source": [
    "tagger = StanfordPOSTagger(model_filename = model_file, path_to_jar = jar_file)"
   ]
  },
  {
   "cell_type": "code",
   "execution_count": 4,
   "metadata": {
    "scrolled": true
   },
   "outputs": [
    {
     "data": {
      "text/plain": [
       "[('where', 'WRB'), ('is', 'VBZ'), ('my', 'PRP$'), ('mind', 'NN')]"
      ]
     },
     "execution_count": 4,
     "metadata": {},
     "output_type": "execute_result"
    }
   ],
   "source": [
    "tagger.tag(\"where is my mind\".split())"
   ]
  },
  {
   "cell_type": "code",
   "execution_count": 5,
   "metadata": {},
   "outputs": [],
   "source": [
    "file = open('Stanford_POS.pkl','wb')\n",
    "pickle.dump(tagger, file, -1)\n",
    "file.close()"
   ]
  }
 ],
 "metadata": {
  "kernelspec": {
   "display_name": "Python 3",
   "language": "python",
   "name": "python3"
  },
  "language_info": {
   "codemirror_mode": {
    "name": "ipython",
    "version": 3
   },
   "file_extension": ".py",
   "mimetype": "text/x-python",
   "name": "python",
   "nbconvert_exporter": "python",
   "pygments_lexer": "ipython3",
   "version": "3.7.4"
  }
 },
 "nbformat": 4,
 "nbformat_minor": 2
}
